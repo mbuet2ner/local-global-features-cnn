{
 "cells": [
  {
   "cell_type": "code",
   "execution_count": 30,
   "metadata": {},
   "outputs": [],
   "source": [
    "import torch\n",
    "import torch.nn.functional as F\n",
    "\n",
    "import numpy as np\n",
    "import pandas as pd\n",
    "import torchvision\n",
    "import pretrainedmodels\n",
    "\n",
    "from tqdm import tqdm\n",
    "from torchvision import models\n",
    "from torchvision import transforms\n",
    "from torch.utils import model_zoo\n",
    "from ipywidgets import FloatProgress\n",
    "from torchvision.datasets import ImageFolder\n",
    "from torch.utils.data import DataLoader\n",
    "from pathlib import Path"
   ]
  },
  {
   "cell_type": "code",
   "execution_count": 31,
   "metadata": {},
   "outputs": [],
   "source": [
    "folder = Path(\"data/\")\n",
    "# the scrambled dataset\n",
    "folder_scr = folder / \"imagenette2_scr\"\n",
    "# the smoothened dataset\n",
    "folder_smt = folder / \"imagenette2_smt\"\n",
    "# the smoothened diff dataset\n",
    "folder_smt_diff = folder / \"imagenette2_smtdiff\"\n",
    "# the patched dataset\n",
    "folder_ptd = folder / \"imagenette2_ptd\""
   ]
  },
  {
   "cell_type": "code",
   "execution_count": 32,
   "metadata": {},
   "outputs": [],
   "source": [
    "img_folders = [folder_scr, folder_smt, folder_smt_diff, folder_ptd]"
   ]
  },
  {
   "cell_type": "markdown",
   "metadata": {},
   "source": [
    "Load the data with additional info to the dataset"
   ]
  },
  {
   "cell_type": "code",
   "execution_count": 33,
   "metadata": {},
   "outputs": [
    {
     "data": {
      "text/html": [
       "<div>\n",
       "<style scoped>\n",
       "    .dataframe tbody tr th:only-of-type {\n",
       "        vertical-align: middle;\n",
       "    }\n",
       "\n",
       "    .dataframe tbody tr th {\n",
       "        vertical-align: top;\n",
       "    }\n",
       "\n",
       "    .dataframe thead th {\n",
       "        text-align: right;\n",
       "    }\n",
       "</style>\n",
       "<table border=\"1\" class=\"dataframe\">\n",
       "  <thead>\n",
       "    <tr style=\"text-align: right;\">\n",
       "      <th></th>\n",
       "      <th>filename</th>\n",
       "      <th>edges</th>\n",
       "      <th>edges_length</th>\n",
       "      <th>xmax_n</th>\n",
       "      <th>xmin_n</th>\n",
       "      <th>ymax_n</th>\n",
       "      <th>ymin_n</th>\n",
       "      <th>path</th>\n",
       "      <th>class</th>\n",
       "      <th>name</th>\n",
       "      <th>softm</th>\n",
       "      <th>inter_res_pos</th>\n",
       "      <th>inter_res_neg</th>\n",
       "      <th>res_perc</th>\n",
       "      <th>res_len</th>\n",
       "      <th>inter_stl_pos</th>\n",
       "      <th>inter_stl_neg</th>\n",
       "      <th>stl_perc</th>\n",
       "      <th>stl_len</th>\n",
       "    </tr>\n",
       "    <tr>\n",
       "      <th>order</th>\n",
       "      <th></th>\n",
       "      <th></th>\n",
       "      <th></th>\n",
       "      <th></th>\n",
       "      <th></th>\n",
       "      <th></th>\n",
       "      <th></th>\n",
       "      <th></th>\n",
       "      <th></th>\n",
       "      <th></th>\n",
       "      <th></th>\n",
       "      <th></th>\n",
       "      <th></th>\n",
       "      <th></th>\n",
       "      <th></th>\n",
       "      <th></th>\n",
       "      <th></th>\n",
       "      <th></th>\n",
       "      <th></th>\n",
       "    </tr>\n",
       "  </thead>\n",
       "  <tbody>\n",
       "    <tr>\n",
       "      <th>0</th>\n",
       "      <td>n01440764_11170</td>\n",
       "      <td>[(32, 78), (32, 81), (32, 84), (32, 93), (32, ...</td>\n",
       "      <td>4302</td>\n",
       "      <td>158.0</td>\n",
       "      <td>32.0</td>\n",
       "      <td>183.0</td>\n",
       "      <td>77.0</td>\n",
       "      <td>/home/malte/Dokumente/Masterarbeit/data/imagen...</td>\n",
       "      <td>n01440764</td>\n",
       "      <td>tench, Tinca tinca</td>\n",
       "      <td>0</td>\n",
       "      <td>1122.0</td>\n",
       "      <td>703.0</td>\n",
       "      <td>0.796077</td>\n",
       "      <td>5404.0</td>\n",
       "      <td>1814.0</td>\n",
       "      <td>228.0</td>\n",
       "      <td>0.532689</td>\n",
       "      <td>8076.0</td>\n",
       "    </tr>\n",
       "    <tr>\n",
       "      <th>1</th>\n",
       "      <td>n01440764_1009</td>\n",
       "      <td>[(87, 73), (87, 75), (87, 98), (88, 73), (88, ...</td>\n",
       "      <td>212</td>\n",
       "      <td>165.0</td>\n",
       "      <td>87.0</td>\n",
       "      <td>108.0</td>\n",
       "      <td>55.0</td>\n",
       "      <td>/home/malte/Dokumente/Masterarbeit/data/imagen...</td>\n",
       "      <td>n01440764</td>\n",
       "      <td>tench, Tinca tinca</td>\n",
       "      <td>0</td>\n",
       "      <td>0.0</td>\n",
       "      <td>30.0</td>\n",
       "      <td>0.101776</td>\n",
       "      <td>2083.0</td>\n",
       "      <td>9.0</td>\n",
       "      <td>0.0</td>\n",
       "      <td>0.034989</td>\n",
       "      <td>6059.0</td>\n",
       "    </tr>\n",
       "    <tr>\n",
       "      <th>2</th>\n",
       "      <td>n01440764_1091</td>\n",
       "      <td>[(25, 58), (25, 150), (25, 151), (25, 211), (2...</td>\n",
       "      <td>1178</td>\n",
       "      <td>224.0</td>\n",
       "      <td>25.0</td>\n",
       "      <td>224.0</td>\n",
       "      <td>58.0</td>\n",
       "      <td>/home/malte/Dokumente/Masterarbeit/data/imagen...</td>\n",
       "      <td>n01440764</td>\n",
       "      <td>tench, Tinca tinca</td>\n",
       "      <td>0</td>\n",
       "      <td>74.0</td>\n",
       "      <td>272.0</td>\n",
       "      <td>0.322122</td>\n",
       "      <td>3657.0</td>\n",
       "      <td>119.0</td>\n",
       "      <td>209.0</td>\n",
       "      <td>0.200716</td>\n",
       "      <td>5869.0</td>\n",
       "    </tr>\n",
       "  </tbody>\n",
       "</table>\n",
       "</div>"
      ],
      "text/plain": [
       "              filename                                              edges  \\\n",
       "order                                                                       \n",
       "0      n01440764_11170  [(32, 78), (32, 81), (32, 84), (32, 93), (32, ...   \n",
       "1       n01440764_1009  [(87, 73), (87, 75), (87, 98), (88, 73), (88, ...   \n",
       "2       n01440764_1091  [(25, 58), (25, 150), (25, 151), (25, 211), (2...   \n",
       "\n",
       "       edges_length  xmax_n  xmin_n  ymax_n  ymin_n  \\\n",
       "order                                                 \n",
       "0              4302   158.0    32.0   183.0    77.0   \n",
       "1               212   165.0    87.0   108.0    55.0   \n",
       "2              1178   224.0    25.0   224.0    58.0   \n",
       "\n",
       "                                                    path      class  \\\n",
       "order                                                                 \n",
       "0      /home/malte/Dokumente/Masterarbeit/data/imagen...  n01440764   \n",
       "1      /home/malte/Dokumente/Masterarbeit/data/imagen...  n01440764   \n",
       "2      /home/malte/Dokumente/Masterarbeit/data/imagen...  n01440764   \n",
       "\n",
       "                     name  softm  inter_res_pos  inter_res_neg  res_perc  \\\n",
       "order                                                                      \n",
       "0      tench, Tinca tinca      0         1122.0          703.0  0.796077   \n",
       "1      tench, Tinca tinca      0            0.0           30.0  0.101776   \n",
       "2      tench, Tinca tinca      0           74.0          272.0  0.322122   \n",
       "\n",
       "       res_len  inter_stl_pos  inter_stl_neg  stl_perc  stl_len  \n",
       "order                                                            \n",
       "0       5404.0         1814.0          228.0  0.532689   8076.0  \n",
       "1       2083.0            9.0            0.0  0.034989   6059.0  \n",
       "2       3657.0          119.0          209.0  0.200716   5869.0  "
      ]
     },
     "execution_count": 33,
     "metadata": {},
     "output_type": "execute_result"
    }
   ],
   "source": [
    "imgn_data = pd.read_csv(folder / \"imgnette_sample_data.csv\", index_col=0)\n",
    "imgn_data[\"path\"] = imgn_data[\"path\"].apply(lambda x: Path(x))\n",
    "imgn_data[:3]"
   ]
  },
  {
   "cell_type": "code",
   "execution_count": 34,
   "metadata": {},
   "outputs": [
    {
     "data": {
      "text/html": [
       "<div>\n",
       "<style scoped>\n",
       "    .dataframe tbody tr th:only-of-type {\n",
       "        vertical-align: middle;\n",
       "    }\n",
       "\n",
       "    .dataframe tbody tr th {\n",
       "        vertical-align: top;\n",
       "    }\n",
       "\n",
       "    .dataframe thead th {\n",
       "        text-align: right;\n",
       "    }\n",
       "</style>\n",
       "<table border=\"1\" class=\"dataframe\">\n",
       "  <thead>\n",
       "    <tr style=\"text-align: right;\">\n",
       "      <th></th>\n",
       "      <th>class</th>\n",
       "      <th>name</th>\n",
       "      <th>softm</th>\n",
       "    </tr>\n",
       "  </thead>\n",
       "  <tbody>\n",
       "    <tr>\n",
       "      <th>0</th>\n",
       "      <td>n01440764</td>\n",
       "      <td>tench, Tinca tinca</td>\n",
       "      <td>0</td>\n",
       "    </tr>\n",
       "    <tr>\n",
       "      <th>1</th>\n",
       "      <td>n01443537</td>\n",
       "      <td>goldfish, Carassius auratus</td>\n",
       "      <td>1</td>\n",
       "    </tr>\n",
       "    <tr>\n",
       "      <th>2</th>\n",
       "      <td>n01484850</td>\n",
       "      <td>great white shark, white shark, man-eater, man...</td>\n",
       "      <td>2</td>\n",
       "    </tr>\n",
       "    <tr>\n",
       "      <th>3</th>\n",
       "      <td>n01491361</td>\n",
       "      <td>tiger shark, Galeocerdo cuvieri</td>\n",
       "      <td>3</td>\n",
       "    </tr>\n",
       "    <tr>\n",
       "      <th>4</th>\n",
       "      <td>n01494475</td>\n",
       "      <td>hammerhead, hammerhead shark</td>\n",
       "      <td>4</td>\n",
       "    </tr>\n",
       "  </tbody>\n",
       "</table>\n",
       "</div>"
      ],
      "text/plain": [
       "       class                                               name  softm\n",
       "0  n01440764                                 tench, Tinca tinca      0\n",
       "1  n01443537                        goldfish, Carassius auratus      1\n",
       "2  n01484850  great white shark, white shark, man-eater, man...      2\n",
       "3  n01491361                    tiger shark, Galeocerdo cuvieri      3\n",
       "4  n01494475                       hammerhead, hammerhead shark      4"
      ]
     },
     "execution_count": 34,
     "metadata": {},
     "output_type": "execute_result"
    }
   ],
   "source": [
    "imgn_classes = pd.read_csv(folder / \"imgn_classes.csv\", index_col=0)\n",
    "imgn_classes[:5]"
   ]
  },
  {
   "cell_type": "code",
   "execution_count": 35,
   "metadata": {},
   "outputs": [],
   "source": [
    "transform = transforms.Compose([\n",
    " transforms.ToTensor()\n",
    "])"
   ]
  },
  {
   "cell_type": "code",
   "execution_count": 36,
   "metadata": {},
   "outputs": [],
   "source": [
    "class ImageFolderWithPaths(torchvision.datasets.ImageFolder):\n",
    "    \"\"\"Custom dataset that includes image file paths. Extends\n",
    "    torchvision.datasets.ImageFolder\n",
    "    https://gist.github.com/andrewjong/6b02ff237533b3b2c554701fb53d5c4d\n",
    "    \"\"\"\n",
    "\n",
    "    # override the __getitem__ method. this is the method that dataloader calls\n",
    "    def __getitem__(self, index):\n",
    "        # this is what ImageFolder normally returns \n",
    "        original_tuple = super(ImageFolderWithPaths, self).__getitem__(index)\n",
    "        # the image file path\n",
    "        path = self.imgs[index][0]\n",
    "        # make a new tuple that includes original and the path\n",
    "        tuple_with_path = (original_tuple + (path,))\n",
    "        return tuple_with_path"
   ]
  },
  {
   "cell_type": "code",
   "execution_count": 37,
   "metadata": {},
   "outputs": [],
   "source": [
    "def imgn_fn(file_path):\n",
    "    for fln in imgn_data[\"filename\"]:\n",
    "        if fln in Path(file_path).stem:\n",
    "            return fln"
   ]
  },
  {
   "cell_type": "code",
   "execution_count": 38,
   "metadata": {},
   "outputs": [],
   "source": [
    "def pred_analysis(output, output_softm, imgn_classes):\n",
    "    pred_acc, pred_class = torch.topk(output_softm, 1)\n",
    "    pred_acc = pred_acc.squeeze().item()\n",
    "    pred_class = pred_class.item()\n",
    "    pred_logit = output[0][pred_class].item()\n",
    "    pred_name = imgn_classes[imgn_classes.softm == pred_class].name.item()\n",
    "    \n",
    "    return pred_acc, pred_class, pred_logit, pred_name"
   ]
  },
  {
   "cell_type": "code",
   "execution_count": 39,
   "metadata": {},
   "outputs": [],
   "source": [
    "def true_analysis(output, output_softm, imgn_fn, pt):\n",
    "    # lookup filename to find original (unmodified) image and class\n",
    "    orig_file = imgn_fn(pt[0])\n",
    "    imgn_subs = imgn_data[imgn_data.filename == orig_file]\n",
    "    \n",
    "    true_class = imgn_subs.softm.item()\n",
    "    true_logit = output[0][true_class].item()\n",
    "    true_name = imgn_subs.name.item()\n",
    "    true_acc = output_softm[0][true_class].item()\n",
    "    \n",
    "    return true_acc, true_class, true_logit, true_name, orig_file"
   ]
  },
  {
   "cell_type": "code",
   "execution_count": 40,
   "metadata": {},
   "outputs": [],
   "source": [
    "def eval_model(model, data):\n",
    "    eval_data = pd.DataFrame(columns=[\"file\",\"orig_file\",\n",
    "                                      \"pred_acc\", \"pred_class\", \"pred_logit\", \"pred_name\",\n",
    "                                     \"true_acc\", \"true_class\", \"true_logit\", \"true_name\"])\n",
    "    \n",
    "    for inp, cl, pt in tqdm(data):\n",
    "        # run model on input image tensor\n",
    "        output = model(inp)\n",
    "        output_softm = F.softmax(output, dim=1)\n",
    "        # get predicted (argmax) class values\n",
    "        pred_acc, pred_class, pred_logit, pred_name = pred_analysis(output, output_softm, imgn_classes)\n",
    "        # get true (real) class values\n",
    "        true_acc, true_class, true_logit, true_name, orig_file = true_analysis(output, output_softm, imgn_fn, pt)\n",
    "        \n",
    "        # Pass a series in append() to append a row in dataframe\n",
    "        eval_data = eval_data.append(pd.Series([Path(pt[0]).stem, orig_file, \n",
    "                                                pred_acc, pred_class, pred_logit, pred_name, \n",
    "                                               true_acc, true_class, true_logit, true_name], index=eval_data.columns ), ignore_index=True)\n",
    "        \n",
    "    return eval_data"
   ]
  },
  {
   "cell_type": "markdown",
   "metadata": {},
   "source": [
    "____________________"
   ]
  },
  {
   "cell_type": "markdown",
   "metadata": {},
   "source": [
    "## 1 Loading pretrained models\n",
    "\n",
    "call `eval:model()` on each"
   ]
  },
  {
   "cell_type": "code",
   "execution_count": 41,
   "metadata": {},
   "outputs": [],
   "source": [
    "datasets = list(map(lambda x: ImageFolderWithPaths(x, transform=transform), img_folders))\n",
    "data = list(map(lambda x: DataLoader(x, batch_size=1, num_workers=2), datasets))"
   ]
  },
  {
   "cell_type": "code",
   "execution_count": 42,
   "metadata": {},
   "outputs": [],
   "source": [
    "names = [\"scr\", \"smt\", \"smt_diff\", \"ptd\"]\n",
    "data_names = list(zip(data, names))"
   ]
  },
  {
   "cell_type": "code",
   "execution_count": 43,
   "metadata": {},
   "outputs": [
    {
     "name": "stdout",
     "output_type": "stream",
     "text": [
      "[(<torch.utils.data.dataloader.DataLoader object at 0x7f83e90030a0>, 'scr'), (<torch.utils.data.dataloader.DataLoader object at 0x7f83e87c6610>, 'smt'), (<torch.utils.data.dataloader.DataLoader object at 0x7f83e87c60a0>, 'smt_diff'), (<torch.utils.data.dataloader.DataLoader object at 0x7f83e8fe7e80>, 'ptd')]\n"
     ]
    }
   ],
   "source": [
    "print(data_names)"
   ]
  },
  {
   "cell_type": "code",
   "execution_count": 44,
   "metadata": {},
   "outputs": [],
   "source": [
    "def analysis_csv(model, data_names, model_name):\n",
    "    for data, name in data_names:\n",
    "        analysis = eval_model(model, data)\n",
    "        analysis[\"model\"] = model_name\n",
    "        analysis.to_csv(folder / f\"{name}_{model_name}.csv\")"
   ]
  },
  {
   "cell_type": "markdown",
   "metadata": {},
   "source": [
    "### VGG16"
   ]
  },
  {
   "cell_type": "code",
   "execution_count": 45,
   "metadata": {},
   "outputs": [],
   "source": [
    "model = models.vgg16(pretrained=True)\n",
    "model = model.eval()\n",
    "model_name = \"vgg16\""
   ]
  },
  {
   "cell_type": "code",
   "execution_count": 46,
   "metadata": {},
   "outputs": [
    {
     "name": "stderr",
     "output_type": "stream",
     "text": [
      "100%|██████████| 390/390 [01:58<00:00,  3.29it/s]\n",
      "100%|██████████| 180/180 [00:55<00:00,  3.24it/s]\n",
      "100%|██████████| 30/30 [00:10<00:00,  2.83it/s]\n",
      "100%|██████████| 6060/6060 [31:35<00:00,  3.20it/s]\n"
     ]
    }
   ],
   "source": [
    "analysis_csv(model, data_names, model_name)"
   ]
  },
  {
   "cell_type": "markdown",
   "metadata": {},
   "source": [
    "### ResNet 50"
   ]
  },
  {
   "cell_type": "code",
   "execution_count": 47,
   "metadata": {},
   "outputs": [],
   "source": [
    "model = models.resnet50(pretrained=True)\n",
    "model = model.eval()\n",
    "model_name = \"resnet50\""
   ]
  },
  {
   "cell_type": "code",
   "execution_count": 48,
   "metadata": {},
   "outputs": [
    {
     "name": "stderr",
     "output_type": "stream",
     "text": [
      "100%|██████████| 390/390 [00:54<00:00,  7.19it/s]\n",
      "100%|██████████| 180/180 [00:25<00:00,  6.96it/s]\n",
      "100%|██████████| 30/30 [00:04<00:00,  6.33it/s]\n",
      "100%|██████████| 6060/6060 [14:03<00:00,  7.18it/s]\n"
     ]
    }
   ],
   "source": [
    "analysis_csv(model, data_names, model_name)"
   ]
  },
  {
   "cell_type": "markdown",
   "metadata": {},
   "source": [
    "### SIN ResNet50"
   ]
  },
  {
   "cell_type": "code",
   "execution_count": 49,
   "metadata": {},
   "outputs": [],
   "source": [
    "model = torchvision.models.resnet50(pretrained=False)\n",
    "model = torch.nn.DataParallel(model)\n",
    "\n",
    "checkpoint = torch.load('../../resnet50_train_60_epochs-c8e5653e.pth.tar', map_location=torch.device('cpu'))\n",
    "model.load_state_dict(checkpoint[\"state_dict\"])\n",
    "model = model.eval()\n",
    "model_name = \"sin-resnet50\""
   ]
  },
  {
   "cell_type": "code",
   "execution_count": 50,
   "metadata": {},
   "outputs": [
    {
     "name": "stderr",
     "output_type": "stream",
     "text": [
      "100%|██████████| 390/390 [00:54<00:00,  7.09it/s]\n",
      "100%|██████████| 180/180 [00:27<00:00,  6.59it/s]\n",
      "100%|██████████| 30/30 [00:04<00:00,  6.39it/s]\n",
      "100%|██████████| 6060/6060 [14:37<00:00,  6.91it/s]\n"
     ]
    }
   ],
   "source": [
    "analysis_csv(model, data_names, model_name)"
   ]
  },
  {
   "cell_type": "markdown",
   "metadata": {},
   "source": [
    "### SE ResNet50"
   ]
  },
  {
   "cell_type": "code",
   "execution_count": 51,
   "metadata": {},
   "outputs": [],
   "source": [
    "model = pretrainedmodels.se_resnet50(num_classes=1000, pretrained='imagenet')\n",
    "model = model.eval()\n",
    "model_name = \"se-resnet50\""
   ]
  },
  {
   "cell_type": "code",
   "execution_count": 52,
   "metadata": {},
   "outputs": [
    {
     "name": "stderr",
     "output_type": "stream",
     "text": [
      "100%|██████████| 390/390 [00:57<00:00,  6.80it/s]\n",
      "100%|██████████| 180/180 [00:27<00:00,  6.62it/s]\n",
      "100%|██████████| 30/30 [00:05<00:00,  5.79it/s]\n",
      "100%|██████████| 6060/6060 [14:50<00:00,  6.81it/s]\n"
     ]
    }
   ],
   "source": [
    "analysis_csv(model, data_names, model_name)"
   ]
  },
  {
   "cell_type": "markdown",
   "metadata": {},
   "source": [
    "### ResNext 50"
   ]
  },
  {
   "cell_type": "markdown",
   "metadata": {},
   "source": [
    "**Note**: `torchvision` version 0.5 is needed to load `ResNext`"
   ]
  },
  {
   "cell_type": "code",
   "execution_count": 53,
   "metadata": {},
   "outputs": [],
   "source": [
    "model = torchvision.models.resnext50_32x4d(pretrained=True)\n",
    "model = model.eval()\n",
    "model_name = \"resnext50\""
   ]
  },
  {
   "cell_type": "code",
   "execution_count": 54,
   "metadata": {},
   "outputs": [
    {
     "name": "stderr",
     "output_type": "stream",
     "text": [
      "100%|██████████| 390/390 [01:01<00:00,  6.36it/s]\n",
      "100%|██████████| 180/180 [00:28<00:00,  6.23it/s]\n",
      "100%|██████████| 30/30 [00:05<00:00,  5.48it/s]\n",
      "100%|██████████| 6060/6060 [15:48<00:00,  6.39it/s]\n"
     ]
    }
   ],
   "source": [
    "analysis_csv(model, data_names, model_name)"
   ]
  },
  {
   "cell_type": "markdown",
   "metadata": {},
   "source": [
    "### SE ResNext50"
   ]
  },
  {
   "cell_type": "code",
   "execution_count": 55,
   "metadata": {},
   "outputs": [],
   "source": [
    "model = pretrainedmodels.se_resnext50_32x4d(num_classes=1000, pretrained='imagenet')\n",
    "model = model.eval()\n",
    "model_name = \"se-resnext50\""
   ]
  },
  {
   "cell_type": "code",
   "execution_count": 56,
   "metadata": {},
   "outputs": [
    {
     "name": "stderr",
     "output_type": "stream",
     "text": [
      "100%|██████████| 390/390 [01:06<00:00,  5.88it/s]\n",
      "100%|██████████| 180/180 [00:31<00:00,  5.76it/s]\n",
      "100%|██████████| 30/30 [00:05<00:00,  5.27it/s]\n",
      "100%|██████████| 6060/6060 [17:44<00:00,  5.69it/s]\n"
     ]
    }
   ],
   "source": [
    "analysis_csv(model, data_names, model_name)"
   ]
  },
  {
   "cell_type": "code",
   "execution_count": null,
   "metadata": {},
   "outputs": [],
   "source": []
  }
 ],
 "metadata": {
  "kernelspec": {
   "display_name": "Python [conda env:pytorch-cpu]",
   "language": "python",
   "name": "conda-env-pytorch-cpu-py"
  },
  "language_info": {
   "codemirror_mode": {
    "name": "ipython",
    "version": 3
   },
   "file_extension": ".py",
   "mimetype": "text/x-python",
   "name": "python",
   "nbconvert_exporter": "python",
   "pygments_lexer": "ipython3",
   "version": "3.8.1"
  },
  "preferences": {
   "default_formatter": {
    "python": "black"
   }
  }
 },
 "nbformat": 4,
 "nbformat_minor": 4
}
