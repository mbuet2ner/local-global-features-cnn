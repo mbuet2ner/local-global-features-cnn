{
 "cells": [
  {
   "cell_type": "code",
   "execution_count": 1,
   "metadata": {},
   "outputs": [],
   "source": [
    "import pickle\n",
    "import pandas as pd\n",
    "\n",
    "from tqdm.auto import tqdm\n",
    "from ast import literal_eval\n",
    "from pathlib import Path"
   ]
  },
  {
   "cell_type": "code",
   "execution_count": 2,
   "metadata": {},
   "outputs": [],
   "source": [
    "folder = Path(\"data/\")"
   ]
  },
  {
   "cell_type": "code",
   "execution_count": 3,
   "metadata": {},
   "outputs": [
    {
     "data": {
      "text/html": [
       "<div>\n",
       "<style scoped>\n",
       "    .dataframe tbody tr th:only-of-type {\n",
       "        vertical-align: middle;\n",
       "    }\n",
       "\n",
       "    .dataframe tbody tr th {\n",
       "        vertical-align: top;\n",
       "    }\n",
       "\n",
       "    .dataframe thead th {\n",
       "        text-align: right;\n",
       "    }\n",
       "</style>\n",
       "<table border=\"1\" class=\"dataframe\">\n",
       "  <thead>\n",
       "    <tr style=\"text-align: right;\">\n",
       "      <th></th>\n",
       "      <th>class</th>\n",
       "      <th>path</th>\n",
       "      <th>scrambled_indices</th>\n",
       "      <th>filename</th>\n",
       "      <th>order</th>\n",
       "    </tr>\n",
       "    <tr>\n",
       "      <th>Unnamed: 0</th>\n",
       "      <th></th>\n",
       "      <th></th>\n",
       "      <th></th>\n",
       "      <th></th>\n",
       "      <th></th>\n",
       "    </tr>\n",
       "  </thead>\n",
       "  <tbody>\n",
       "    <tr>\n",
       "      <th>0</th>\n",
       "      <td>n01440764</td>\n",
       "      <td>/home/malte/Dokumente/Masterarbeit/data/imagen...</td>\n",
       "      <td>{0: array([2, 3, 1, 0]), 1: array([0, 3, 1, 2]...</td>\n",
       "      <td>n01440764_11170</td>\n",
       "      <td>0</td>\n",
       "    </tr>\n",
       "    <tr>\n",
       "      <th>1</th>\n",
       "      <td>n01440764</td>\n",
       "      <td>/home/malte/Dokumente/Masterarbeit/data/imagen...</td>\n",
       "      <td>{0: array([1, 3, 0, 2]), 1: array([1, 3, 0, 2]...</td>\n",
       "      <td>n01440764_1009</td>\n",
       "      <td>1</td>\n",
       "    </tr>\n",
       "    <tr>\n",
       "      <th>2</th>\n",
       "      <td>n01440764</td>\n",
       "      <td>/home/malte/Dokumente/Masterarbeit/data/imagen...</td>\n",
       "      <td>{0: array([0, 1, 2, 3]), 1: array([1, 3, 0, 2]...</td>\n",
       "      <td>n01440764_1091</td>\n",
       "      <td>2</td>\n",
       "    </tr>\n",
       "    <tr>\n",
       "      <th>3</th>\n",
       "      <td>n02102040</td>\n",
       "      <td>/home/malte/Dokumente/Masterarbeit/data/imagen...</td>\n",
       "      <td>{0: array([2, 0, 1, 3]), 1: array([0, 2, 3, 1]...</td>\n",
       "      <td>n02102040_6489</td>\n",
       "      <td>3</td>\n",
       "    </tr>\n",
       "    <tr>\n",
       "      <th>4</th>\n",
       "      <td>n02102040</td>\n",
       "      <td>/home/malte/Dokumente/Masterarbeit/data/imagen...</td>\n",
       "      <td>{0: array([1, 3, 2, 0]), 1: array([2, 3, 0, 1]...</td>\n",
       "      <td>n02102040_1487</td>\n",
       "      <td>4</td>\n",
       "    </tr>\n",
       "  </tbody>\n",
       "</table>\n",
       "</div>"
      ],
      "text/plain": [
       "                class                                               path  \\\n",
       "Unnamed: 0                                                                 \n",
       "0           n01440764  /home/malte/Dokumente/Masterarbeit/data/imagen...   \n",
       "1           n01440764  /home/malte/Dokumente/Masterarbeit/data/imagen...   \n",
       "2           n01440764  /home/malte/Dokumente/Masterarbeit/data/imagen...   \n",
       "3           n02102040  /home/malte/Dokumente/Masterarbeit/data/imagen...   \n",
       "4           n02102040  /home/malte/Dokumente/Masterarbeit/data/imagen...   \n",
       "\n",
       "                                            scrambled_indices  \\\n",
       "Unnamed: 0                                                      \n",
       "0           {0: array([2, 3, 1, 0]), 1: array([0, 3, 1, 2]...   \n",
       "1           {0: array([1, 3, 0, 2]), 1: array([1, 3, 0, 2]...   \n",
       "2           {0: array([0, 1, 2, 3]), 1: array([1, 3, 0, 2]...   \n",
       "3           {0: array([2, 0, 1, 3]), 1: array([0, 2, 3, 1]...   \n",
       "4           {0: array([1, 3, 2, 0]), 1: array([2, 3, 0, 1]...   \n",
       "\n",
       "                   filename  order  \n",
       "Unnamed: 0                          \n",
       "0           n01440764_11170      0  \n",
       "1            n01440764_1009      1  \n",
       "2            n01440764_1091      2  \n",
       "3            n02102040_6489      3  \n",
       "4            n02102040_1487      4  "
      ]
     },
     "execution_count": 3,
     "metadata": {},
     "output_type": "execute_result"
    }
   ],
   "source": [
    "data = pd.read_csv(folder / \"imagenette2_scr/scramble.csv\", )\n",
    "data = data.set_index(data.columns[0])\n",
    "data['path'] = data['path'].apply(lambda x: Path(x))\n",
    "data['filename'] = data['path'].apply(lambda x: x.stem)\n",
    "data['order'] = data.index\n",
    "data[:5]"
   ]
  },
  {
   "cell_type": "markdown",
   "metadata": {},
   "source": [
    "Edge length will vary considerably, alas, due to different image properties.\n",
    "For some images, `canny edge detector` with automatic threshold may not yield optimal reults.\n",
    "\n",
    "\n",
    "Having said that, this analysis is more concerned with giving a general overview and a tendency."
   ]
  },
  {
   "cell_type": "code",
   "execution_count": 4,
   "metadata": {},
   "outputs": [
    {
     "data": {
      "text/html": [
       "<div>\n",
       "<style scoped>\n",
       "    .dataframe tbody tr th:only-of-type {\n",
       "        vertical-align: middle;\n",
       "    }\n",
       "\n",
       "    .dataframe tbody tr th {\n",
       "        vertical-align: top;\n",
       "    }\n",
       "\n",
       "    .dataframe thead th {\n",
       "        text-align: right;\n",
       "    }\n",
       "</style>\n",
       "<table border=\"1\" class=\"dataframe\">\n",
       "  <thead>\n",
       "    <tr style=\"text-align: right;\">\n",
       "      <th></th>\n",
       "      <th>filename</th>\n",
       "      <th>edges</th>\n",
       "      <th>edges_length</th>\n",
       "    </tr>\n",
       "  </thead>\n",
       "  <tbody>\n",
       "    <tr>\n",
       "      <th>62</th>\n",
       "      <td>n03394916_4437</td>\n",
       "      <td>[(10, 169), (10, 170), (10, 171), (10, 172), (...</td>\n",
       "      <td>3792</td>\n",
       "    </tr>\n",
       "    <tr>\n",
       "      <th>349</th>\n",
       "      <td>n01440764_1009</td>\n",
       "      <td>[(87, 73), (87, 75), (87, 98), (88, 73), (88, ...</td>\n",
       "      <td>212</td>\n",
       "    </tr>\n",
       "    <tr>\n",
       "      <th>603</th>\n",
       "      <td>n02102040_565</td>\n",
       "      <td>[(89, 119), (89, 120), (89, 134), (89, 206), (...</td>\n",
       "      <td>598</td>\n",
       "    </tr>\n",
       "    <tr>\n",
       "      <th>694</th>\n",
       "      <td>n02102040_6489</td>\n",
       "      <td>[(15, 191), (15, 192), (15, 193), (15, 199), (...</td>\n",
       "      <td>731</td>\n",
       "    </tr>\n",
       "    <tr>\n",
       "      <th>717</th>\n",
       "      <td>n02102040_1487</td>\n",
       "      <td>[(70, 209), (70, 211), (70, 212), (70, 213), (...</td>\n",
       "      <td>905</td>\n",
       "    </tr>\n",
       "  </tbody>\n",
       "</table>\n",
       "</div>"
      ],
      "text/plain": [
       "           filename                                              edges  \\\n",
       "62   n03394916_4437  [(10, 169), (10, 170), (10, 171), (10, 172), (...   \n",
       "349  n01440764_1009  [(87, 73), (87, 75), (87, 98), (88, 73), (88, ...   \n",
       "603   n02102040_565  [(89, 119), (89, 120), (89, 134), (89, 206), (...   \n",
       "694  n02102040_6489  [(15, 191), (15, 192), (15, 193), (15, 199), (...   \n",
       "717  n02102040_1487  [(70, 209), (70, 211), (70, 212), (70, 213), (...   \n",
       "\n",
       "     edges_length  \n",
       "62           3792  \n",
       "349           212  \n",
       "603           598  \n",
       "694           731  \n",
       "717           905  "
      ]
     },
     "execution_count": 4,
     "metadata": {},
     "output_type": "execute_result"
    }
   ],
   "source": [
    "edges_flt = pd.read_csv('edges_data_flt.csv', sep='\\t', header=None)\n",
    "edges_flt.columns = ['filename', 'edges']\n",
    "\n",
    "edges_flt = edges_flt.loc[edges_flt['filename'].isin(data['filename'])]\n",
    "edges_flt['edges'] = edges_flt.edges.apply(literal_eval)\n",
    "edges_flt['edges_length'] = edges_flt['edges'].str.len()\n",
    "edges_flt[:5]"
   ]
  },
  {
   "cell_type": "markdown",
   "metadata": {},
   "source": [
    "The updated bouding boxes are also needed."
   ]
  },
  {
   "cell_type": "code",
   "execution_count": 5,
   "metadata": {},
   "outputs": [
    {
     "data": {
      "text/html": [
       "<div>\n",
       "<style scoped>\n",
       "    .dataframe tbody tr th:only-of-type {\n",
       "        vertical-align: middle;\n",
       "    }\n",
       "\n",
       "    .dataframe tbody tr th {\n",
       "        vertical-align: top;\n",
       "    }\n",
       "\n",
       "    .dataframe thead th {\n",
       "        text-align: right;\n",
       "    }\n",
       "</style>\n",
       "<table border=\"1\" class=\"dataframe\">\n",
       "  <thead>\n",
       "    <tr style=\"text-align: right;\">\n",
       "      <th></th>\n",
       "      <th>filename</th>\n",
       "      <th>folder</th>\n",
       "      <th>object</th>\n",
       "      <th>object.bndbox.xmax</th>\n",
       "      <th>object.bndbox.xmin</th>\n",
       "      <th>object.bndbox.ymax</th>\n",
       "      <th>object.bndbox.ymin</th>\n",
       "      <th>object.difficult</th>\n",
       "      <th>object.name</th>\n",
       "      <th>object.pose</th>\n",
       "      <th>object.truncated</th>\n",
       "      <th>segmented</th>\n",
       "      <th>size.depth</th>\n",
       "      <th>size.height</th>\n",
       "      <th>size.width</th>\n",
       "      <th>source.database</th>\n",
       "      <th>xmax_n</th>\n",
       "      <th>xmin_n</th>\n",
       "      <th>ymax_n</th>\n",
       "      <th>ymin_n</th>\n",
       "    </tr>\n",
       "  </thead>\n",
       "  <tbody>\n",
       "    <tr>\n",
       "      <th>44</th>\n",
       "      <td>n03445777_18705</td>\n",
       "      <td>n03445777</td>\n",
       "      <td>NaN</td>\n",
       "      <td>364.0</td>\n",
       "      <td>94</td>\n",
       "      <td>293</td>\n",
       "      <td>26</td>\n",
       "      <td>0</td>\n",
       "      <td>n03445777</td>\n",
       "      <td>Unspecified</td>\n",
       "      <td>0</td>\n",
       "      <td>0</td>\n",
       "      <td>3</td>\n",
       "      <td>375</td>\n",
       "      <td>500</td>\n",
       "      <td>ImageNet database</td>\n",
       "      <td>170.0</td>\n",
       "      <td>32.0</td>\n",
       "      <td>184.0</td>\n",
       "      <td>1.0</td>\n",
       "    </tr>\n",
       "    <tr>\n",
       "      <th>273</th>\n",
       "      <td>n03445777_9380</td>\n",
       "      <td>n03445777</td>\n",
       "      <td>NaN</td>\n",
       "      <td>329.0</td>\n",
       "      <td>123</td>\n",
       "      <td>292</td>\n",
       "      <td>82</td>\n",
       "      <td>0</td>\n",
       "      <td>n03445777</td>\n",
       "      <td>Unspecified</td>\n",
       "      <td>0</td>\n",
       "      <td>0</td>\n",
       "      <td>3</td>\n",
       "      <td>406</td>\n",
       "      <td>500</td>\n",
       "      <td>ImageNet database</td>\n",
       "      <td>152.0</td>\n",
       "      <td>46.0</td>\n",
       "      <td>168.0</td>\n",
       "      <td>35.0</td>\n",
       "    </tr>\n",
       "    <tr>\n",
       "      <th>290</th>\n",
       "      <td>n03445777_3421</td>\n",
       "      <td>n03445777</td>\n",
       "      <td>NaN</td>\n",
       "      <td>94.0</td>\n",
       "      <td>59</td>\n",
       "      <td>116</td>\n",
       "      <td>78</td>\n",
       "      <td>0</td>\n",
       "      <td>n03445777</td>\n",
       "      <td>Unspecified</td>\n",
       "      <td>0</td>\n",
       "      <td>0</td>\n",
       "      <td>3</td>\n",
       "      <td>199</td>\n",
       "      <td>200</td>\n",
       "      <td>ImageNet database</td>\n",
       "      <td>104.0</td>\n",
       "      <td>59.0</td>\n",
       "      <td>133.0</td>\n",
       "      <td>84.0</td>\n",
       "    </tr>\n",
       "    <tr>\n",
       "      <th>425</th>\n",
       "      <td>n03888257_28482</td>\n",
       "      <td>n03888257</td>\n",
       "      <td>NaN</td>\n",
       "      <td>440.0</td>\n",
       "      <td>50</td>\n",
       "      <td>435</td>\n",
       "      <td>175</td>\n",
       "      <td>0</td>\n",
       "      <td>n03888257</td>\n",
       "      <td>Unspecified</td>\n",
       "      <td>0</td>\n",
       "      <td>0</td>\n",
       "      <td>3</td>\n",
       "      <td>500</td>\n",
       "      <td>500</td>\n",
       "      <td>ImageNet database</td>\n",
       "      <td>209.0</td>\n",
       "      <td>9.0</td>\n",
       "      <td>206.0</td>\n",
       "      <td>73.0</td>\n",
       "    </tr>\n",
       "    <tr>\n",
       "      <th>486</th>\n",
       "      <td>n03888257_4988</td>\n",
       "      <td>n03888257</td>\n",
       "      <td>NaN</td>\n",
       "      <td>387.0</td>\n",
       "      <td>242</td>\n",
       "      <td>170</td>\n",
       "      <td>66</td>\n",
       "      <td>0</td>\n",
       "      <td>n03888257</td>\n",
       "      <td>Unspecified</td>\n",
       "      <td>0</td>\n",
       "      <td>0</td>\n",
       "      <td>3</td>\n",
       "      <td>375</td>\n",
       "      <td>500</td>\n",
       "      <td>ImageNet database</td>\n",
       "      <td>182.0</td>\n",
       "      <td>107.0</td>\n",
       "      <td>100.0</td>\n",
       "      <td>29.0</td>\n",
       "    </tr>\n",
       "  </tbody>\n",
       "</table>\n",
       "</div>"
      ],
      "text/plain": [
       "            filename     folder object  object.bndbox.xmax object.bndbox.xmin  \\\n",
       "44   n03445777_18705  n03445777    NaN               364.0                 94   \n",
       "273   n03445777_9380  n03445777    NaN               329.0                123   \n",
       "290   n03445777_3421  n03445777    NaN                94.0                 59   \n",
       "425  n03888257_28482  n03888257    NaN               440.0                 50   \n",
       "486   n03888257_4988  n03888257    NaN               387.0                242   \n",
       "\n",
       "    object.bndbox.ymax object.bndbox.ymin object.difficult object.name  \\\n",
       "44                 293                 26                0   n03445777   \n",
       "273                292                 82                0   n03445777   \n",
       "290                116                 78                0   n03445777   \n",
       "425                435                175                0   n03888257   \n",
       "486                170                 66                0   n03888257   \n",
       "\n",
       "     object.pose object.truncated segmented size.depth size.height size.width  \\\n",
       "44   Unspecified                0         0          3         375        500   \n",
       "273  Unspecified                0         0          3         406        500   \n",
       "290  Unspecified                0         0          3         199        200   \n",
       "425  Unspecified                0         0          3         500        500   \n",
       "486  Unspecified                0         0          3         375        500   \n",
       "\n",
       "       source.database  xmax_n  xmin_n  ymax_n  ymin_n  \n",
       "44   ImageNet database   170.0    32.0   184.0     1.0  \n",
       "273  ImageNet database   152.0    46.0   168.0    35.0  \n",
       "290  ImageNet database   104.0    59.0   133.0    84.0  \n",
       "425  ImageNet database   209.0     9.0   206.0    73.0  \n",
       "486  ImageNet database   182.0   107.0   100.0    29.0  "
      ]
     },
     "execution_count": 5,
     "metadata": {},
     "output_type": "execute_result"
    }
   ],
   "source": [
    "imgn_flt = pd.read_pickle(folder / \"imgn_data_flt.pkl\")\n",
    "imgn_flt = imgn_flt.loc[imgn_flt['filename'].isin(data['filename'])]\n",
    "imgn_flt[:5]"
   ]
  },
  {
   "cell_type": "markdown",
   "metadata": {},
   "source": [
    "It would also be helpful to have a dataframe with softmax value, name and class for each ImageNet image."
   ]
  },
  {
   "cell_type": "code",
   "execution_count": 6,
   "metadata": {},
   "outputs": [
    {
     "data": {
      "text/html": [
       "<div>\n",
       "<style scoped>\n",
       "    .dataframe tbody tr th:only-of-type {\n",
       "        vertical-align: middle;\n",
       "    }\n",
       "\n",
       "    .dataframe tbody tr th {\n",
       "        vertical-align: top;\n",
       "    }\n",
       "\n",
       "    .dataframe thead th {\n",
       "        text-align: right;\n",
       "    }\n",
       "</style>\n",
       "<table border=\"1\" class=\"dataframe\">\n",
       "  <thead>\n",
       "    <tr style=\"text-align: right;\">\n",
       "      <th></th>\n",
       "      <th>class</th>\n",
       "      <th>name</th>\n",
       "      <th>softm</th>\n",
       "    </tr>\n",
       "  </thead>\n",
       "  <tbody>\n",
       "    <tr>\n",
       "      <th>0</th>\n",
       "      <td>n01440764</td>\n",
       "      <td>tench, Tinca tinca</td>\n",
       "      <td>0</td>\n",
       "    </tr>\n",
       "    <tr>\n",
       "      <th>1</th>\n",
       "      <td>n01443537</td>\n",
       "      <td>goldfish, Carassius auratus</td>\n",
       "      <td>1</td>\n",
       "    </tr>\n",
       "    <tr>\n",
       "      <th>2</th>\n",
       "      <td>n01484850</td>\n",
       "      <td>great white shark, white shark, man-eater, man...</td>\n",
       "      <td>2</td>\n",
       "    </tr>\n",
       "    <tr>\n",
       "      <th>3</th>\n",
       "      <td>n01491361</td>\n",
       "      <td>tiger shark, Galeocerdo cuvieri</td>\n",
       "      <td>3</td>\n",
       "    </tr>\n",
       "    <tr>\n",
       "      <th>4</th>\n",
       "      <td>n01494475</td>\n",
       "      <td>hammerhead, hammerhead shark</td>\n",
       "      <td>4</td>\n",
       "    </tr>\n",
       "  </tbody>\n",
       "</table>\n",
       "</div>"
      ],
      "text/plain": [
       "       class                                               name  softm\n",
       "0  n01440764                                 tench, Tinca tinca      0\n",
       "1  n01443537                        goldfish, Carassius auratus      1\n",
       "2  n01484850  great white shark, white shark, man-eater, man...      2\n",
       "3  n01491361                    tiger shark, Galeocerdo cuvieri      3\n",
       "4  n01494475                       hammerhead, hammerhead shark      4"
      ]
     },
     "execution_count": 6,
     "metadata": {},
     "output_type": "execute_result"
    }
   ],
   "source": [
    "url = 'https://raw.githubusercontent.com/ageron/handson-ml/master/datasets/inception/imagenet_class_names.txt'\n",
    "imgn_classes = pd.read_fwf(url, header=None)\n",
    "imgn_classes.columns = ['class', 'name']\n",
    "imgn_classes['softm'] = imgn_classes.index\n",
    "imgn_classes[:5]"
   ]
  },
  {
   "cell_type": "code",
   "execution_count": 7,
   "metadata": {},
   "outputs": [],
   "source": [
    "imgn_classes.to_csv(folder / \"imgn_classes.csv\")"
   ]
  },
  {
   "cell_type": "markdown",
   "metadata": {},
   "source": [
    "Now, all data is combined into a single dataframe."
   ]
  },
  {
   "cell_type": "code",
   "execution_count": 7,
   "metadata": {},
   "outputs": [
    {
     "data": {
      "text/html": [
       "<div>\n",
       "<style scoped>\n",
       "    .dataframe tbody tr th:only-of-type {\n",
       "        vertical-align: middle;\n",
       "    }\n",
       "\n",
       "    .dataframe tbody tr th {\n",
       "        vertical-align: top;\n",
       "    }\n",
       "\n",
       "    .dataframe thead th {\n",
       "        text-align: right;\n",
       "    }\n",
       "</style>\n",
       "<table border=\"1\" class=\"dataframe\">\n",
       "  <thead>\n",
       "    <tr style=\"text-align: right;\">\n",
       "      <th></th>\n",
       "      <th>filename</th>\n",
       "      <th>edges</th>\n",
       "      <th>edges_length</th>\n",
       "      <th>xmax_n</th>\n",
       "      <th>xmin_n</th>\n",
       "      <th>ymax_n</th>\n",
       "      <th>ymin_n</th>\n",
       "      <th>path</th>\n",
       "      <th>class</th>\n",
       "      <th>order</th>\n",
       "      <th>name</th>\n",
       "      <th>softm</th>\n",
       "    </tr>\n",
       "  </thead>\n",
       "  <tbody>\n",
       "    <tr>\n",
       "      <th>0</th>\n",
       "      <td>n03394916_4437</td>\n",
       "      <td>[(10, 169), (10, 170), (10, 171), (10, 172), (...</td>\n",
       "      <td>3792</td>\n",
       "      <td>224.0</td>\n",
       "      <td>0.0</td>\n",
       "      <td>224.0</td>\n",
       "      <td>0.0</td>\n",
       "      <td>/home/malte/Dokumente/Masterarbeit/data/imagen...</td>\n",
       "      <td>n03394916</td>\n",
       "      <td>16</td>\n",
       "      <td>French horn, horn</td>\n",
       "      <td>566</td>\n",
       "    </tr>\n",
       "    <tr>\n",
       "      <th>1</th>\n",
       "      <td>n03394916_17780</td>\n",
       "      <td>[(35, 32), (35, 33), (36, 32), (37, 32), (38, ...</td>\n",
       "      <td>148</td>\n",
       "      <td>222.0</td>\n",
       "      <td>35.0</td>\n",
       "      <td>224.0</td>\n",
       "      <td>0.0</td>\n",
       "      <td>/home/malte/Dokumente/Masterarbeit/data/imagen...</td>\n",
       "      <td>n03394916</td>\n",
       "      <td>17</td>\n",
       "      <td>French horn, horn</td>\n",
       "      <td>566</td>\n",
       "    </tr>\n",
       "    <tr>\n",
       "      <th>2</th>\n",
       "      <td>n03394916_3731</td>\n",
       "      <td>[(65, 136), (65, 137), (65, 138), (66, 139), (...</td>\n",
       "      <td>832</td>\n",
       "      <td>224.0</td>\n",
       "      <td>0.0</td>\n",
       "      <td>189.0</td>\n",
       "      <td>31.0</td>\n",
       "      <td>/home/malte/Dokumente/Masterarbeit/data/imagen...</td>\n",
       "      <td>n03394916</td>\n",
       "      <td>15</td>\n",
       "      <td>French horn, horn</td>\n",
       "      <td>566</td>\n",
       "    </tr>\n",
       "    <tr>\n",
       "      <th>3</th>\n",
       "      <td>n01440764_1009</td>\n",
       "      <td>[(87, 73), (87, 75), (87, 98), (88, 73), (88, ...</td>\n",
       "      <td>212</td>\n",
       "      <td>165.0</td>\n",
       "      <td>87.0</td>\n",
       "      <td>108.0</td>\n",
       "      <td>55.0</td>\n",
       "      <td>/home/malte/Dokumente/Masterarbeit/data/imagen...</td>\n",
       "      <td>n01440764</td>\n",
       "      <td>1</td>\n",
       "      <td>tench, Tinca tinca</td>\n",
       "      <td>0</td>\n",
       "    </tr>\n",
       "    <tr>\n",
       "      <th>4</th>\n",
       "      <td>n01440764_1091</td>\n",
       "      <td>[(25, 58), (25, 150), (25, 151), (25, 211), (2...</td>\n",
       "      <td>1178</td>\n",
       "      <td>224.0</td>\n",
       "      <td>25.0</td>\n",
       "      <td>224.0</td>\n",
       "      <td>58.0</td>\n",
       "      <td>/home/malte/Dokumente/Masterarbeit/data/imagen...</td>\n",
       "      <td>n01440764</td>\n",
       "      <td>2</td>\n",
       "      <td>tench, Tinca tinca</td>\n",
       "      <td>0</td>\n",
       "    </tr>\n",
       "  </tbody>\n",
       "</table>\n",
       "</div>"
      ],
      "text/plain": [
       "          filename                                              edges  \\\n",
       "0   n03394916_4437  [(10, 169), (10, 170), (10, 171), (10, 172), (...   \n",
       "1  n03394916_17780  [(35, 32), (35, 33), (36, 32), (37, 32), (38, ...   \n",
       "2   n03394916_3731  [(65, 136), (65, 137), (65, 138), (66, 139), (...   \n",
       "3   n01440764_1009  [(87, 73), (87, 75), (87, 98), (88, 73), (88, ...   \n",
       "4   n01440764_1091  [(25, 58), (25, 150), (25, 151), (25, 211), (2...   \n",
       "\n",
       "   edges_length  xmax_n  xmin_n  ymax_n  ymin_n  \\\n",
       "0          3792   224.0     0.0   224.0     0.0   \n",
       "1           148   222.0    35.0   224.0     0.0   \n",
       "2           832   224.0     0.0   189.0    31.0   \n",
       "3           212   165.0    87.0   108.0    55.0   \n",
       "4          1178   224.0    25.0   224.0    58.0   \n",
       "\n",
       "                                                path      class  order  \\\n",
       "0  /home/malte/Dokumente/Masterarbeit/data/imagen...  n03394916     16   \n",
       "1  /home/malte/Dokumente/Masterarbeit/data/imagen...  n03394916     17   \n",
       "2  /home/malte/Dokumente/Masterarbeit/data/imagen...  n03394916     15   \n",
       "3  /home/malte/Dokumente/Masterarbeit/data/imagen...  n01440764      1   \n",
       "4  /home/malte/Dokumente/Masterarbeit/data/imagen...  n01440764      2   \n",
       "\n",
       "                 name  softm  \n",
       "0   French horn, horn    566  \n",
       "1   French horn, horn    566  \n",
       "2   French horn, horn    566  \n",
       "3  tench, Tinca tinca      0  \n",
       "4  tench, Tinca tinca      0  "
      ]
     },
     "execution_count": 7,
     "metadata": {},
     "output_type": "execute_result"
    }
   ],
   "source": [
    "comb = edges_flt.merge(imgn_flt[['filename', 'xmax_n', 'xmin_n', 'ymax_n', 'ymin_n']], left_on=\"filename\", right_on=\"filename\")\n",
    "comb = comb.merge(data[['filename', 'path', 'class', 'order']], left_on=\"filename\", right_on=\"filename\")\n",
    "comb = comb.merge(imgn_classes)\n",
    "comb[:5]"
   ]
  },
  {
   "cell_type": "code",
   "execution_count": 8,
   "metadata": {},
   "outputs": [
    {
     "data": {
      "text/html": [
       "<div>\n",
       "<style scoped>\n",
       "    .dataframe tbody tr th:only-of-type {\n",
       "        vertical-align: middle;\n",
       "    }\n",
       "\n",
       "    .dataframe tbody tr th {\n",
       "        vertical-align: top;\n",
       "    }\n",
       "\n",
       "    .dataframe thead th {\n",
       "        text-align: right;\n",
       "    }\n",
       "</style>\n",
       "<table border=\"1\" class=\"dataframe\">\n",
       "  <thead>\n",
       "    <tr style=\"text-align: right;\">\n",
       "      <th></th>\n",
       "      <th>filename</th>\n",
       "      <th>edges</th>\n",
       "      <th>edges_length</th>\n",
       "      <th>xmax_n</th>\n",
       "      <th>xmin_n</th>\n",
       "      <th>ymax_n</th>\n",
       "      <th>ymin_n</th>\n",
       "      <th>path</th>\n",
       "      <th>class</th>\n",
       "      <th>name</th>\n",
       "      <th>softm</th>\n",
       "    </tr>\n",
       "    <tr>\n",
       "      <th>order</th>\n",
       "      <th></th>\n",
       "      <th></th>\n",
       "      <th></th>\n",
       "      <th></th>\n",
       "      <th></th>\n",
       "      <th></th>\n",
       "      <th></th>\n",
       "      <th></th>\n",
       "      <th></th>\n",
       "      <th></th>\n",
       "      <th></th>\n",
       "    </tr>\n",
       "  </thead>\n",
       "  <tbody>\n",
       "    <tr>\n",
       "      <th>0</th>\n",
       "      <td>n01440764_11170</td>\n",
       "      <td>[(32, 78), (32, 81), (32, 84), (32, 93), (32, ...</td>\n",
       "      <td>4302</td>\n",
       "      <td>158.0</td>\n",
       "      <td>32.0</td>\n",
       "      <td>183.0</td>\n",
       "      <td>77.0</td>\n",
       "      <td>/home/malte/Dokumente/Masterarbeit/data/imagen...</td>\n",
       "      <td>n01440764</td>\n",
       "      <td>tench, Tinca tinca</td>\n",
       "      <td>0</td>\n",
       "    </tr>\n",
       "    <tr>\n",
       "      <th>1</th>\n",
       "      <td>n01440764_1009</td>\n",
       "      <td>[(87, 73), (87, 75), (87, 98), (88, 73), (88, ...</td>\n",
       "      <td>212</td>\n",
       "      <td>165.0</td>\n",
       "      <td>87.0</td>\n",
       "      <td>108.0</td>\n",
       "      <td>55.0</td>\n",
       "      <td>/home/malte/Dokumente/Masterarbeit/data/imagen...</td>\n",
       "      <td>n01440764</td>\n",
       "      <td>tench, Tinca tinca</td>\n",
       "      <td>0</td>\n",
       "    </tr>\n",
       "    <tr>\n",
       "      <th>2</th>\n",
       "      <td>n01440764_1091</td>\n",
       "      <td>[(25, 58), (25, 150), (25, 151), (25, 211), (2...</td>\n",
       "      <td>1178</td>\n",
       "      <td>224.0</td>\n",
       "      <td>25.0</td>\n",
       "      <td>224.0</td>\n",
       "      <td>58.0</td>\n",
       "      <td>/home/malte/Dokumente/Masterarbeit/data/imagen...</td>\n",
       "      <td>n01440764</td>\n",
       "      <td>tench, Tinca tinca</td>\n",
       "      <td>0</td>\n",
       "    </tr>\n",
       "    <tr>\n",
       "      <th>3</th>\n",
       "      <td>n02102040_6489</td>\n",
       "      <td>[(15, 191), (15, 192), (15, 193), (15, 199), (...</td>\n",
       "      <td>731</td>\n",
       "      <td>224.0</td>\n",
       "      <td>0.0</td>\n",
       "      <td>224.0</td>\n",
       "      <td>51.0</td>\n",
       "      <td>/home/malte/Dokumente/Masterarbeit/data/imagen...</td>\n",
       "      <td>n02102040</td>\n",
       "      <td>English springer, English springer spaniel</td>\n",
       "      <td>217</td>\n",
       "    </tr>\n",
       "    <tr>\n",
       "      <th>4</th>\n",
       "      <td>n02102040_1487</td>\n",
       "      <td>[(70, 209), (70, 211), (70, 212), (70, 213), (...</td>\n",
       "      <td>905</td>\n",
       "      <td>147.0</td>\n",
       "      <td>51.0</td>\n",
       "      <td>214.0</td>\n",
       "      <td>13.0</td>\n",
       "      <td>/home/malte/Dokumente/Masterarbeit/data/imagen...</td>\n",
       "      <td>n02102040</td>\n",
       "      <td>English springer, English springer spaniel</td>\n",
       "      <td>217</td>\n",
       "    </tr>\n",
       "  </tbody>\n",
       "</table>\n",
       "</div>"
      ],
      "text/plain": [
       "              filename                                              edges  \\\n",
       "order                                                                       \n",
       "0      n01440764_11170  [(32, 78), (32, 81), (32, 84), (32, 93), (32, ...   \n",
       "1       n01440764_1009  [(87, 73), (87, 75), (87, 98), (88, 73), (88, ...   \n",
       "2       n01440764_1091  [(25, 58), (25, 150), (25, 151), (25, 211), (2...   \n",
       "3       n02102040_6489  [(15, 191), (15, 192), (15, 193), (15, 199), (...   \n",
       "4       n02102040_1487  [(70, 209), (70, 211), (70, 212), (70, 213), (...   \n",
       "\n",
       "       edges_length  xmax_n  xmin_n  ymax_n  ymin_n  \\\n",
       "order                                                 \n",
       "0              4302   158.0    32.0   183.0    77.0   \n",
       "1               212   165.0    87.0   108.0    55.0   \n",
       "2              1178   224.0    25.0   224.0    58.0   \n",
       "3               731   224.0     0.0   224.0    51.0   \n",
       "4               905   147.0    51.0   214.0    13.0   \n",
       "\n",
       "                                                    path      class  \\\n",
       "order                                                                 \n",
       "0      /home/malte/Dokumente/Masterarbeit/data/imagen...  n01440764   \n",
       "1      /home/malte/Dokumente/Masterarbeit/data/imagen...  n01440764   \n",
       "2      /home/malte/Dokumente/Masterarbeit/data/imagen...  n01440764   \n",
       "3      /home/malte/Dokumente/Masterarbeit/data/imagen...  n02102040   \n",
       "4      /home/malte/Dokumente/Masterarbeit/data/imagen...  n02102040   \n",
       "\n",
       "                                             name  softm  \n",
       "order                                                     \n",
       "0                              tench, Tinca tinca      0  \n",
       "1                              tench, Tinca tinca      0  \n",
       "2                              tench, Tinca tinca      0  \n",
       "3      English springer, English springer spaniel    217  \n",
       "4      English springer, English springer spaniel    217  "
      ]
     },
     "execution_count": 8,
     "metadata": {},
     "output_type": "execute_result"
    }
   ],
   "source": [
    "comb.set_index(\"order\", inplace=True)\n",
    "comb.sort_index(inplace=True)\n",
    "comb[:5]"
   ]
  },
  {
   "cell_type": "code",
   "execution_count": 9,
   "metadata": {},
   "outputs": [],
   "source": [
    "with open(folder / 'lrp_regions_resnet.pkl', 'rb') as f:\n",
    "    res_reg = pickle.load(f)"
   ]
  },
  {
   "cell_type": "code",
   "execution_count": 13,
   "metadata": {},
   "outputs": [],
   "source": [
    "with open(folder / 'lrp_regions_stylenet.pkl', 'rb') as f:\n",
    "    stl_reg = pickle.load(f)"
   ]
  },
  {
   "cell_type": "markdown",
   "metadata": {},
   "source": [
    "Filter out "
   ]
  },
  {
   "cell_type": "code",
   "execution_count": 14,
   "metadata": {},
   "outputs": [],
   "source": [
    "res_pos = {k: list(map(tuple, v[\"pos_ind\"])) for k, v in res_reg.items()}\n",
    "res_neg = {k: list(map(tuple, v[\"neg_ind\"])) for k, v in res_reg.items()}"
   ]
  },
  {
   "cell_type": "code",
   "execution_count": 15,
   "metadata": {},
   "outputs": [],
   "source": [
    "stl_pos = {k: list(map(tuple, v[\"pos_ind\"])) for k, v in stl_reg.items()}\n",
    "stl_neg = {k: list(map(tuple, v[\"neg_ind\"])) for k, v in stl_reg.items()}"
   ]
  },
  {
   "cell_type": "code",
   "execution_count": 16,
   "metadata": {},
   "outputs": [],
   "source": [
    "inter_res_pos_coord = []\n",
    "inter_stl_pos_coord = []\n",
    "\n",
    "for index, row in comb.iterrows():\n",
    "    # resnet50\n",
    "    # calculate intersection of canny edges and lrp edges for both pos and neg values\n",
    "    # save to seperate list to not overload dataframe\n",
    "    inter_res_pos_coord.append(list(set(res_pos[index]) & set(comb[\"edges\"][index])))\n",
    "    # continue with dataframe opearations\n",
    "    comb.at[index, \"inter_res_pos\"] = len(list(set(res_pos[index]) & set(comb[\"edges\"][index])))\n",
    "    comb.at[index, \"inter_res_neg\"] = len(list(set(res_neg[index]) & set(comb[\"edges\"][index])))\n",
    "    comb.at[index, \"res_perc\"] =  comb[\"edges_length\"][index] / len(res_pos[index])\n",
    "    comb.at[index, \"res_len\"] = len(res_pos[index]) + len(res_neg[index])\n",
    "    comb.at[index, \"res_pos_len\"] = len(res_pos[index])\n",
    "    comb.at[index, \"res_neg_len\"] = len(res_neg[index])\n",
    "    \n",
    "    # stylenet50\n",
    "    # calculate intersection of canny edges and lrp edges for both pos and neg values\n",
    "    # save to seperate list to not overload dataframe\n",
    "    inter_stl_pos_coord.append(list(set(stl_pos[index]) & set(comb[\"edges\"][index])))\n",
    "    # continue with dataframe opearations\n",
    "    comb.at[index, \"inter_stl_pos\"] = len(list(set(stl_pos[index]) & set(comb[\"edges\"][index])))\n",
    "    comb.at[index, \"inter_stl_neg\"] = len(list(set(stl_neg[index]) & set(comb[\"edges\"][index])))\n",
    "    comb.at[index, \"stl_perc\"] =  comb[\"edges_length\"][index] / len(stl_pos[index])\n",
    "    comb.at[index, \"stl_len\"] = len(stl_pos[index]) + len(stl_neg[index])\n",
    "    comb.at[index, \"stl_pos_len\"] = len(stl_pos[index])\n",
    "    comb.at[index, \"stl_neg_len\"] = len(stl_neg[index])"
   ]
  },
  {
   "cell_type": "markdown",
   "metadata": {},
   "source": [
    "##### Calculated weighted intersection (by total length)"
   ]
  },
  {
   "cell_type": "code",
   "execution_count": 17,
   "metadata": {},
   "outputs": [],
   "source": [
    "comb[\"inter_res_pos_perc\"] = comb[\"inter_res_pos\"] / comb[\"res_pos_len\"]\n",
    "comb[\"inter_stl_pos_perc\"] = comb[\"inter_stl_pos\"] / comb[\"stl_pos_len\"]\n",
    "\n",
    "comb[\"inter_res_neg_perc\"] = comb[\"inter_res_neg\"] / comb[\"res_neg_len\"]\n",
    "comb[\"inter_stl_neg_perc\"] = comb[\"inter_stl_neg\"] / comb[\"stl_neg_len\"]"
   ]
  },
  {
   "cell_type": "code",
   "execution_count": 18,
   "metadata": {},
   "outputs": [
    {
     "data": {
      "text/html": [
       "<div>\n",
       "<style scoped>\n",
       "    .dataframe tbody tr th:only-of-type {\n",
       "        vertical-align: middle;\n",
       "    }\n",
       "\n",
       "    .dataframe tbody tr th {\n",
       "        vertical-align: top;\n",
       "    }\n",
       "\n",
       "    .dataframe thead th {\n",
       "        text-align: right;\n",
       "    }\n",
       "</style>\n",
       "<table border=\"1\" class=\"dataframe\">\n",
       "  <thead>\n",
       "    <tr style=\"text-align: right;\">\n",
       "      <th></th>\n",
       "      <th>filename</th>\n",
       "      <th>edges</th>\n",
       "      <th>edges_length</th>\n",
       "      <th>xmax_n</th>\n",
       "      <th>xmin_n</th>\n",
       "      <th>ymax_n</th>\n",
       "      <th>ymin_n</th>\n",
       "      <th>path</th>\n",
       "      <th>class</th>\n",
       "      <th>name</th>\n",
       "      <th>...</th>\n",
       "      <th>inter_stl_pos</th>\n",
       "      <th>inter_stl_neg</th>\n",
       "      <th>stl_perc</th>\n",
       "      <th>stl_len</th>\n",
       "      <th>stl_pos_len</th>\n",
       "      <th>stl_neg_len</th>\n",
       "      <th>inter_res_pos_perc</th>\n",
       "      <th>inter_stl_pos_perc</th>\n",
       "      <th>inter_res_neg_perc</th>\n",
       "      <th>inter_stl_neg_perc</th>\n",
       "    </tr>\n",
       "    <tr>\n",
       "      <th>order</th>\n",
       "      <th></th>\n",
       "      <th></th>\n",
       "      <th></th>\n",
       "      <th></th>\n",
       "      <th></th>\n",
       "      <th></th>\n",
       "      <th></th>\n",
       "      <th></th>\n",
       "      <th></th>\n",
       "      <th></th>\n",
       "      <th></th>\n",
       "      <th></th>\n",
       "      <th></th>\n",
       "      <th></th>\n",
       "      <th></th>\n",
       "      <th></th>\n",
       "      <th></th>\n",
       "      <th></th>\n",
       "      <th></th>\n",
       "      <th></th>\n",
       "      <th></th>\n",
       "    </tr>\n",
       "  </thead>\n",
       "  <tbody>\n",
       "    <tr>\n",
       "      <th>0</th>\n",
       "      <td>n01440764_11170</td>\n",
       "      <td>[(32, 78), (32, 81), (32, 84), (32, 93), (32, ...</td>\n",
       "      <td>4302</td>\n",
       "      <td>158.0</td>\n",
       "      <td>32.0</td>\n",
       "      <td>183.0</td>\n",
       "      <td>77.0</td>\n",
       "      <td>/home/malte/Dokumente/Masterarbeit/data/imagen...</td>\n",
       "      <td>n01440764</td>\n",
       "      <td>tench, Tinca tinca</td>\n",
       "      <td>...</td>\n",
       "      <td>1814.0</td>\n",
       "      <td>228.0</td>\n",
       "      <td>0.532689</td>\n",
       "      <td>9168.0</td>\n",
       "      <td>8076.0</td>\n",
       "      <td>1092.0</td>\n",
       "      <td>0.207624</td>\n",
       "      <td>0.224616</td>\n",
       "      <td>0.165529</td>\n",
       "      <td>0.208791</td>\n",
       "    </tr>\n",
       "    <tr>\n",
       "      <th>1</th>\n",
       "      <td>n01440764_1009</td>\n",
       "      <td>[(87, 73), (87, 75), (87, 98), (88, 73), (88, ...</td>\n",
       "      <td>212</td>\n",
       "      <td>165.0</td>\n",
       "      <td>87.0</td>\n",
       "      <td>108.0</td>\n",
       "      <td>55.0</td>\n",
       "      <td>/home/malte/Dokumente/Masterarbeit/data/imagen...</td>\n",
       "      <td>n01440764</td>\n",
       "      <td>tench, Tinca tinca</td>\n",
       "      <td>...</td>\n",
       "      <td>9.0</td>\n",
       "      <td>0.0</td>\n",
       "      <td>0.034989</td>\n",
       "      <td>8094.0</td>\n",
       "      <td>6059.0</td>\n",
       "      <td>2035.0</td>\n",
       "      <td>0.000000</td>\n",
       "      <td>0.001485</td>\n",
       "      <td>0.005854</td>\n",
       "      <td>0.000000</td>\n",
       "    </tr>\n",
       "    <tr>\n",
       "      <th>2</th>\n",
       "      <td>n01440764_1091</td>\n",
       "      <td>[(25, 58), (25, 150), (25, 151), (25, 211), (2...</td>\n",
       "      <td>1178</td>\n",
       "      <td>224.0</td>\n",
       "      <td>25.0</td>\n",
       "      <td>224.0</td>\n",
       "      <td>58.0</td>\n",
       "      <td>/home/malte/Dokumente/Masterarbeit/data/imagen...</td>\n",
       "      <td>n01440764</td>\n",
       "      <td>tench, Tinca tinca</td>\n",
       "      <td>...</td>\n",
       "      <td>119.0</td>\n",
       "      <td>209.0</td>\n",
       "      <td>0.200716</td>\n",
       "      <td>11684.0</td>\n",
       "      <td>5869.0</td>\n",
       "      <td>5815.0</td>\n",
       "      <td>0.020235</td>\n",
       "      <td>0.020276</td>\n",
       "      <td>0.034663</td>\n",
       "      <td>0.035942</td>\n",
       "    </tr>\n",
       "  </tbody>\n",
       "</table>\n",
       "<p>3 rows × 27 columns</p>\n",
       "</div>"
      ],
      "text/plain": [
       "              filename                                              edges  \\\n",
       "order                                                                       \n",
       "0      n01440764_11170  [(32, 78), (32, 81), (32, 84), (32, 93), (32, ...   \n",
       "1       n01440764_1009  [(87, 73), (87, 75), (87, 98), (88, 73), (88, ...   \n",
       "2       n01440764_1091  [(25, 58), (25, 150), (25, 151), (25, 211), (2...   \n",
       "\n",
       "       edges_length  xmax_n  xmin_n  ymax_n  ymin_n  \\\n",
       "order                                                 \n",
       "0              4302   158.0    32.0   183.0    77.0   \n",
       "1               212   165.0    87.0   108.0    55.0   \n",
       "2              1178   224.0    25.0   224.0    58.0   \n",
       "\n",
       "                                                    path      class  \\\n",
       "order                                                                 \n",
       "0      /home/malte/Dokumente/Masterarbeit/data/imagen...  n01440764   \n",
       "1      /home/malte/Dokumente/Masterarbeit/data/imagen...  n01440764   \n",
       "2      /home/malte/Dokumente/Masterarbeit/data/imagen...  n01440764   \n",
       "\n",
       "                     name  ...  inter_stl_pos  inter_stl_neg  stl_perc  \\\n",
       "order                      ...                                           \n",
       "0      tench, Tinca tinca  ...         1814.0          228.0  0.532689   \n",
       "1      tench, Tinca tinca  ...            9.0            0.0  0.034989   \n",
       "2      tench, Tinca tinca  ...          119.0          209.0  0.200716   \n",
       "\n",
       "       stl_len  stl_pos_len  stl_neg_len  inter_res_pos_perc  \\\n",
       "order                                                          \n",
       "0       9168.0       8076.0       1092.0            0.207624   \n",
       "1       8094.0       6059.0       2035.0            0.000000   \n",
       "2      11684.0       5869.0       5815.0            0.020235   \n",
       "\n",
       "       inter_stl_pos_perc  inter_res_neg_perc  inter_stl_neg_perc  \n",
       "order                                                              \n",
       "0                0.224616            0.165529            0.208791  \n",
       "1                0.001485            0.005854            0.000000  \n",
       "2                0.020276            0.034663            0.035942  \n",
       "\n",
       "[3 rows x 27 columns]"
      ]
     },
     "execution_count": 18,
     "metadata": {},
     "output_type": "execute_result"
    }
   ],
   "source": [
    "comb[:3]"
   ]
  },
  {
   "cell_type": "markdown",
   "metadata": {},
   "source": [
    "Save the combined dataframe to csv"
   ]
  },
  {
   "cell_type": "code",
   "execution_count": 314,
   "metadata": {},
   "outputs": [],
   "source": [
    "comb.to_csv(folder / \"imgnette_sample_data.csv\")"
   ]
  },
  {
   "cell_type": "markdown",
   "metadata": {},
   "source": [
    "____________"
   ]
  },
  {
   "cell_type": "markdown",
   "metadata": {},
   "source": [
    "### Visualization"
   ]
  },
  {
   "cell_type": "code",
   "execution_count": 19,
   "metadata": {},
   "outputs": [],
   "source": [
    "import seaborn as sns\n",
    "import matplotlib.pyplot as plt\n",
    "\n",
    "sns.set()"
   ]
  },
  {
   "cell_type": "markdown",
   "metadata": {},
   "source": [
    "Use `Latex` for text in plots and adapt seaborn style"
   ]
  },
  {
   "cell_type": "code",
   "execution_count": 20,
   "metadata": {},
   "outputs": [],
   "source": [
    "sns.set_context(\"paper\")\n",
    "sns.set_style(\"whitegrid\")\n",
    "sns.set_palette(\"colorblind\")"
   ]
  },
  {
   "cell_type": "code",
   "execution_count": 21,
   "metadata": {},
   "outputs": [],
   "source": [
    "from matplotlib import rc\n",
    "rc('font',**{'family':'serif','serif':['Palatino'], 'size' : 11})\n",
    "rc('text', usetex=True)"
   ]
  },
  {
   "cell_type": "markdown",
   "metadata": {},
   "source": [
    "The palattes used in this notebooks are as follows:"
   ]
  },
  {
   "cell_type": "code",
   "execution_count": 22,
   "metadata": {},
   "outputs": [
    {
     "data": {
      "image/png": "[encoded data removed]",
      "text/plain": [
       "<Figure size 720x72 with 1 Axes>"
      ]
     },
     "metadata": {},
     "output_type": "display_data"
    }
   ],
   "source": [
    "sns.palplot(sns.color_palette(\"colorblind\", 10))"
   ]
  },
  {
   "cell_type": "code",
   "execution_count": 23,
   "metadata": {},
   "outputs": [
    {
     "data": {
      "text/plain": [
       "[Text(0, 0, 'resnet50'), Text(0, 0, 'stylenet50')]"
      ]
     },
     "execution_count": 23,
     "metadata": {},
     "output_type": "execute_result"
    },
    {
     "data": {
      "image/png": "[encoded data removed]",
      "text/plain": [
       "<Figure size 432x288 with 1 Axes>"
      ]
     },
     "metadata": {},
     "output_type": "display_data"
    }
   ],
   "source": [
    "ax = sns.stripplot(data=comb[[\"res_len\", \"stl_len\"]],\n",
    "                  dodge=True, alpha=.3)\n",
    "\n",
    "# Show the conditional means\n",
    "ax = sns.pointplot(data=comb[[\"res_len\", \"stl_len\"]],\n",
    "              dodge=.532, join=False, palette=\"dark\",\n",
    "              markers=\"d\", scale=.75, ci=None)\n",
    "\n",
    "ax.set(ylabel=' LRP coordinate count')\n",
    "sns.despine(bottom = True, left = True)\n",
    "ax.set_xticklabels([\"resnet50\", \"stylenet50\"])"
   ]
  },
  {
   "cell_type": "code",
   "execution_count": 24,
   "metadata": {},
   "outputs": [],
   "source": [
    "ax.figure.savefig(folder / \"lrp_count.pdf\")"
   ]
  },
  {
   "cell_type": "code",
   "execution_count": 25,
   "metadata": {},
   "outputs": [
    {
     "data": {
      "text/plain": [
       "[Text(0, 0, 'resnet50 pos.'),\n",
       " Text(0, 0, 'resnet50 neg.'),\n",
       " Text(0, 0, 'stylenet50 pos.'),\n",
       " Text(0, 0, 'stylenet50 neg.')]"
      ]
     },
     "execution_count": 25,
     "metadata": {},
     "output_type": "execute_result"
    },
    {
     "data": {
      "image/png": "[encoded data removed]",
      "text/plain": [
       "<Figure size 432x288 with 1 Axes>"
      ]
     },
     "metadata": {},
     "output_type": "display_data"
    }
   ],
   "source": [
    "ax = sns.stripplot(data=comb[[\"res_pos_len\", \"res_neg_len\", \"stl_pos_len\", \"stl_neg_len\"]],\n",
    "                  dodge=True, alpha=.3)\n",
    "\n",
    "# Show the conditional means\n",
    "ax = sns.pointplot(data=comb[[\"res_pos_len\", \"res_neg_len\", \"stl_pos_len\", \"stl_neg_len\"]],\n",
    "              dodge=.532, join=False, palette=\"dark\",\n",
    "              markers=\"d\", scale=.75, ci=None)\n",
    "\n",
    "ax.set(ylabel='LRP coordinate count')\n",
    "sns.despine(bottom = True, left = True)\n",
    "ax.set_xticklabels([\"resnet50 pos.\", \"resnet50 neg.\", \"stylenet50 pos.\", \"stylenet50 neg.\"])"
   ]
  },
  {
   "cell_type": "code",
   "execution_count": 26,
   "metadata": {},
   "outputs": [],
   "source": [
    "ax.figure.savefig(folder / \"lrp_count_posneg.pdf\")"
   ]
  },
  {
   "cell_type": "markdown",
   "metadata": {},
   "source": [
    "#### Compare positive and negative lrp canny intersection"
   ]
  },
  {
   "cell_type": "code",
   "execution_count": 27,
   "metadata": {},
   "outputs": [
    {
     "data": {
      "image/png": "[encoded data removed]",
      "text/plain": [
       "<Figure size 432x288 with 1 Axes>"
      ]
     },
     "metadata": {},
     "output_type": "display_data"
    }
   ],
   "source": [
    "ax = sns.boxenplot(data=comb[[\"inter_res_pos\", \"inter_res_neg\", \"inter_stl_pos\", \"inter_stl_neg\"]])\n",
    "\n",
    "ax.set_xticklabels([\"resnet50 pos.\", \"resnet50 neg.\", \"stylenet50 pos.\", \"stylenet50 neg.\"])\n",
    "ax.set(ylabel='Number of shared pixels')\n",
    "sns.despine(bottom = True, left = True)"
   ]
  },
  {
   "cell_type": "markdown",
   "metadata": {},
   "source": [
    "- Noch einmal gewichtet wiederholen\n",
    "- Wie viel lrp in der Bounding box?"
   ]
  },
  {
   "cell_type": "code",
   "execution_count": 28,
   "metadata": {},
   "outputs": [],
   "source": [
    "ax.figure.savefig(folder / \"lrp_canny.pdf\")"
   ]
  },
  {
   "cell_type": "markdown",
   "metadata": {},
   "source": [
    "#### Compare weighted positive and negative lrp canny intersection"
   ]
  },
  {
   "cell_type": "code",
   "execution_count": 144,
   "metadata": {},
   "outputs": [
    {
     "data": {
      "image/png": "[encoded data removed]",
      "text/plain": [
       "<Figure size 432x288 with 1 Axes>"
      ]
     },
     "metadata": {},
     "output_type": "display_data"
    }
   ],
   "source": [
    "#ax = sns.boxenplot(data=comb[[\"inter_res_pos_perc\", \"inter_res_neg_perc\", \"inter_stl_pos_perc\", \"inter_stl_neg_perc\"]])\n",
    "ax = sns.stripplot(data=comb[[\"inter_res_pos_perc\", \"inter_stl_pos_perc\"]],\n",
    "                  dodge=True, alpha=.3)\n",
    "\n",
    "# Show the conditional means\n",
    "ax = sns.pointplot(data=comb[[\"inter_res_pos_perc\", \"inter_stl_pos_perc\", ]],\n",
    "              dodge=.532, join=False, palette=\"dark\",\n",
    "              markers=\"d\", scale=.75, ci=None)\n",
    "\n",
    "ax.set_xticklabels([\"resnet50 pos.\", \"stylenet50 pos.\",])\n",
    "ax.set(ylabel='Percentage of shared coord. in all pos. LRP coord.')\n",
    "sns.despine(bottom = True, left = True)"
   ]
  },
  {
   "cell_type": "code",
   "execution_count": 145,
   "metadata": {},
   "outputs": [],
   "source": [
    "ax.figure.savefig(folder / \"lrp_canny_weighted.pdf\")"
   ]
  },
  {
   "cell_type": "code",
   "execution_count": 31,
   "metadata": {},
   "outputs": [
    {
     "data": {
      "text/plain": [
       "True     19\n",
       "False    11\n",
       "dtype: int64"
      ]
     },
     "execution_count": 31,
     "metadata": {},
     "output_type": "execute_result"
    }
   ],
   "source": [
    "comp_pos = (comb[\"inter_res_pos\"] / comb[\"res_pos_len\"]) < (comb[\"inter_stl_pos\"] / comb[\"stl_pos_len\"])\n",
    "comp_pos.value_counts()"
   ]
  },
  {
   "cell_type": "code",
   "execution_count": 32,
   "metadata": {},
   "outputs": [
    {
     "data": {
      "text/plain": [
       "True     16\n",
       "False    14\n",
       "dtype: int64"
      ]
     },
     "execution_count": 32,
     "metadata": {},
     "output_type": "execute_result"
    }
   ],
   "source": [
    "comp_neg = (comb[\"inter_res_neg\"] / comb[\"res_neg_len\"]) > (comb[\"inter_stl_neg\"] / comb[\"stl_neg_len\"])\n",
    "comp_neg.value_counts()"
   ]
  },
  {
   "cell_type": "code",
   "execution_count": 33,
   "metadata": {},
   "outputs": [
    {
     "data": {
      "text/plain": [
       "True     20\n",
       "False    10\n",
       "dtype: int64"
      ]
     },
     "execution_count": 33,
     "metadata": {},
     "output_type": "execute_result"
    }
   ],
   "source": [
    "res_perc_neg_pos = comb[\"inter_res_neg\"] / comb[\"inter_res_pos\"] > 1\n",
    "res_perc_neg_pos.value_counts()"
   ]
  },
  {
   "cell_type": "code",
   "execution_count": 34,
   "metadata": {},
   "outputs": [
    {
     "data": {
      "text/plain": [
       "False    20\n",
       "True     10\n",
       "dtype: int64"
      ]
     },
     "execution_count": 34,
     "metadata": {},
     "output_type": "execute_result"
    }
   ],
   "source": [
    "stl_perc_neg_pos = comb[\"inter_stl_neg\"] / comb[\"inter_stl_pos\"] > 1\n",
    "stl_perc_neg_pos.value_counts()"
   ]
  },
  {
   "cell_type": "markdown",
   "metadata": {},
   "source": [
    "#### Plot kernel densities"
   ]
  },
  {
   "cell_type": "markdown",
   "metadata": {},
   "source": [
    "To get a sense of what regions appear often in both the LRP values of both networks and the Canny edge detection, kernel density plots may help. "
   ]
  },
  {
   "cell_type": "markdown",
   "metadata": {},
   "source": [
    "Canny coordinates (in `ImageNet` bounding box!)"
   ]
  },
  {
   "cell_type": "code",
   "execution_count": 98,
   "metadata": {},
   "outputs": [],
   "source": [
    "x_canny = [elem[0] for lst in comb['edges'] for elem in lst]\n",
    "y_canny = [elem[1] for lst in comb['edges'] for elem in lst]"
   ]
  },
  {
   "cell_type": "code",
   "execution_count": 99,
   "metadata": {},
   "outputs": [
    {
     "data": {
      "text/plain": [
       "(0, 224)"
      ]
     },
     "execution_count": 99,
     "metadata": {},
     "output_type": "execute_result"
    },
    {
     "data": {
      "image/png": "[encoded data removed]",
      "text/plain": [
       "<Figure size 432x432 with 3 Axes>"
      ]
     },
     "metadata": {},
     "output_type": "display_data"
    }
   ],
   "source": [
    "g = sns.jointplot(x=x_canny, y=y_canny, \n",
    "              kind=\"kde\", color=sns.color_palette(\"colorblind\")[7], alpha=0.8)\n",
    "g.ax_joint.collections[0].set_alpha(0)\n",
    "sns.despine(bottom = True, left = True)\n",
    "\n",
    "# set axis limits to actual image size\n",
    "g.ax_marg_x.set_xlim(0, 224)\n",
    "g.ax_marg_y.set_ylim(0, 224)"
   ]
  },
  {
   "cell_type": "code",
   "execution_count": 100,
   "metadata": {},
   "outputs": [],
   "source": [
    "g.savefig(folder / \"canny_reg.pdf\")"
   ]
  },
  {
   "cell_type": "markdown",
   "metadata": {},
   "source": [
    "Positive LRP ResNet coordinates"
   ]
  },
  {
   "cell_type": "code",
   "execution_count": 101,
   "metadata": {},
   "outputs": [],
   "source": [
    "x_lrp_res = [elem[0] for lst in res_pos.values() for elem in lst]\n",
    "y_lrp_res = [elem[1] for lst in res_pos.values() for elem in lst]"
   ]
  },
  {
   "cell_type": "code",
   "execution_count": 102,
   "metadata": {},
   "outputs": [
    {
     "data": {
      "text/plain": [
       "(0, 224)"
      ]
     },
     "execution_count": 102,
     "metadata": {},
     "output_type": "execute_result"
    },
    {
     "data": {
      "image/png": "[encoded data removed]",
      "text/plain": [
       "<Figure size 432x432 with 3 Axes>"
      ]
     },
     "metadata": {},
     "output_type": "display_data"
    }
   ],
   "source": [
    "g = sns.jointplot(x=x_lrp_res, y=y_lrp_res,\n",
    "              kind=\"kde\", color=sns.color_palette(\"colorblind\")[0], alpha=0.8)\n",
    "g.ax_joint.collections[0].set_alpha(0)\n",
    "sns.despine(bottom = True, left = True)\n",
    "\n",
    "# set axis limits to actual image size\n",
    "g.ax_marg_x.set_xlim(0, 224)\n",
    "g.ax_marg_y.set_ylim(0, 224)"
   ]
  },
  {
   "cell_type": "code",
   "execution_count": 103,
   "metadata": {},
   "outputs": [],
   "source": [
    "g.savefig(folder / \"res_lrpos_reg.pdf\")"
   ]
  },
  {
   "cell_type": "markdown",
   "metadata": {},
   "source": [
    "Positive LRP StyleNet coordinates"
   ]
  },
  {
   "cell_type": "code",
   "execution_count": 104,
   "metadata": {},
   "outputs": [],
   "source": [
    "x_lrp_stl = [elem[0] for lst in stl_pos.values() for elem in lst]\n",
    "y_lrp_stl = [elem[1] for lst in stl_pos.values() for elem in lst]"
   ]
  },
  {
   "cell_type": "code",
   "execution_count": 105,
   "metadata": {},
   "outputs": [
    {
     "data": {
      "text/plain": [
       "(0, 224)"
      ]
     },
     "execution_count": 105,
     "metadata": {},
     "output_type": "execute_result"
    },
    {
     "data": {
      "image/png": "[encoded data removed]",
      "text/plain": [
       "<Figure size 432x432 with 3 Axes>"
      ]
     },
     "metadata": {},
     "output_type": "display_data"
    }
   ],
   "source": [
    "g = sns.jointplot(x=x_lrp_stl, y=y_lrp_stl, \n",
    "              kind=\"kde\", color=sns.color_palette(\"colorblind\")[1], alpha=0.8)\n",
    "g.ax_joint.collections[0].set_alpha(0)\n",
    "sns.despine(bottom = True, left = True)\n",
    "\n",
    "# set axis limits to actual image size\n",
    "g.ax_marg_x.set_xlim(0, 224)\n",
    "g.ax_marg_y.set_ylim(0, 224)"
   ]
  },
  {
   "cell_type": "code",
   "execution_count": 106,
   "metadata": {},
   "outputs": [],
   "source": [
    "g.savefig(folder / \"stl_lrppos_reg.pdf\")"
   ]
  },
  {
   "cell_type": "markdown",
   "metadata": {},
   "source": [
    "Intersection LRP Canny ResNet"
   ]
  },
  {
   "cell_type": "code",
   "execution_count": 107,
   "metadata": {},
   "outputs": [],
   "source": [
    "x_inter_res = [elem[0] for lst in inter_res_pos_coord for elem in lst]\n",
    "y_inter_res = [elem[1] for lst in inter_res_pos_coord for elem in lst]"
   ]
  },
  {
   "cell_type": "code",
   "execution_count": 108,
   "metadata": {},
   "outputs": [
    {
     "data": {
      "text/plain": [
       "(0, 224)"
      ]
     },
     "execution_count": 108,
     "metadata": {},
     "output_type": "execute_result"
    },
    {
     "data": {
      "image/png": "[encoded data removed]",
      "text/plain": [
       "<Figure size 432x432 with 3 Axes>"
      ]
     },
     "metadata": {},
     "output_type": "display_data"
    }
   ],
   "source": [
    "g = sns.jointplot(x=x_inter_res, y=y_inter_res, \n",
    "              kind=\"kde\", color=sns.color_palette(\"colorblind\")[0], alpha=0.8)\n",
    "g.ax_joint.collections[0].set_alpha(0)\n",
    "sns.despine(bottom = True, left = True)\n",
    "\n",
    "# set axis limits to actual image size\n",
    "g.ax_marg_x.set_xlim(0, 224)\n",
    "g.ax_marg_y.set_ylim(0, 224)"
   ]
  },
  {
   "cell_type": "code",
   "execution_count": 109,
   "metadata": {},
   "outputs": [],
   "source": [
    "g.savefig(folder / \"res_inters.pdf\")"
   ]
  },
  {
   "cell_type": "markdown",
   "metadata": {},
   "source": [
    "Intersection LRP Canny StyleNet"
   ]
  },
  {
   "cell_type": "code",
   "execution_count": 110,
   "metadata": {},
   "outputs": [],
   "source": [
    "x_inter_stl = [elem[0] for lst in inter_stl_pos_coord for elem in lst]\n",
    "y_inter_stl = [elem[1] for lst in inter_stl_pos_coord for elem in lst]"
   ]
  },
  {
   "cell_type": "code",
   "execution_count": 111,
   "metadata": {},
   "outputs": [
    {
     "data": {
      "text/plain": [
       "(0, 224)"
      ]
     },
     "execution_count": 111,
     "metadata": {},
     "output_type": "execute_result"
    },
    {
     "data": {
      "image/png": "[encoded data removed]",
      "text/plain": [
       "<Figure size 432x432 with 3 Axes>"
      ]
     },
     "metadata": {},
     "output_type": "display_data"
    }
   ],
   "source": [
    "g = sns.jointplot(x=x_inter_stl, y=y_inter_stl, \n",
    "              kind=\"kde\", color=sns.color_palette(\"colorblind\")[1], alpha=0.8)\n",
    "g.ax_joint.collections[0].set_alpha(0)\n",
    "sns.despine(bottom = True, left = True)\n",
    "\n",
    "# set axis limits to actual image size\n",
    "g.ax_marg_x.set_xlim(0, 224)\n",
    "g.ax_marg_y.set_ylim(0, 224)"
   ]
  },
  {
   "cell_type": "code",
   "execution_count": 112,
   "metadata": {},
   "outputs": [],
   "source": [
    "g.savefig(folder / \"stl_inters.pdf\")"
   ]
  },
  {
   "cell_type": "markdown",
   "metadata": {},
   "source": [
    "____________"
   ]
  },
  {
   "cell_type": "markdown",
   "metadata": {},
   "source": [
    "## Some statistical tests"
   ]
  },
  {
   "cell_type": "code",
   "execution_count": 114,
   "metadata": {},
   "outputs": [],
   "source": [
    "import numpy as np\n",
    "import matplotlib.pyplot as plt\n",
    "import statsmodels.api as sm\n",
    "\n",
    "from scipy import stats"
   ]
  },
  {
   "cell_type": "code",
   "execution_count": 128,
   "metadata": {},
   "outputs": [
    {
     "data": {
      "image/png": "[encoded data removed]",
      "text/plain": [
       "<Figure size 432x288 with 1 Axes>"
      ]
     },
     "metadata": {},
     "output_type": "display_data"
    }
   ],
   "source": [
    "g = sm.qqplot(comb[\"inter_stl_pos\"] - comb[\"inter_res_pos\"], \n",
    "             color=sns.color_palette(\"colorblind\")[0])\n",
    "sns.despine(bottom = True, left = True)\n",
    "\n",
    "g.savefig(folder / \"qq_4.pdf\")"
   ]
  },
  {
   "cell_type": "code",
   "execution_count": 120,
   "metadata": {},
   "outputs": [
    {
     "data": {
      "text/plain": [
       "(0.5557712316513062, 2.1946389594518223e-08)"
      ]
     },
     "execution_count": 120,
     "metadata": {},
     "output_type": "execute_result"
    }
   ],
   "source": [
    "stats.shapiro(comb[\"inter_res_pos\"])"
   ]
  },
  {
   "cell_type": "code",
   "execution_count": 121,
   "metadata": {},
   "outputs": [
    {
     "data": {
      "text/plain": [
       "(0.5874334573745728, 5.144735482076612e-08)"
      ]
     },
     "execution_count": 121,
     "metadata": {},
     "output_type": "execute_result"
    }
   ],
   "source": [
    "stats.shapiro(comb[\"inter_stl_pos\"])"
   ]
  },
  {
   "cell_type": "markdown",
   "metadata": {},
   "source": [
    "The Shapiro test for the differences is important!"
   ]
  },
  {
   "cell_type": "code",
   "execution_count": 125,
   "metadata": {},
   "outputs": [
    {
     "data": {
      "text/plain": [
       "(0.6441235542297363, 2.6392936547381396e-07)"
      ]
     },
     "execution_count": 125,
     "metadata": {},
     "output_type": "execute_result"
    }
   ],
   "source": [
    "stats.shapiro(comb[\"inter_stl_pos\"] - comb[\"inter_res_pos\"])"
   ]
  },
  {
   "cell_type": "markdown",
   "metadata": {},
   "source": [
    "#### Check if the positive lrp values of each network are equal (mean, distribution)"
   ]
  },
  {
   "cell_type": "code",
   "execution_count": 94,
   "metadata": {},
   "outputs": [
    {
     "data": {
      "text/plain": [
       "(0.9954106755475988, 4.37807296993466e-30)"
      ]
     },
     "execution_count": 94,
     "metadata": {},
     "output_type": "execute_result"
    }
   ],
   "source": [
    "stats.pearsonr(comb[\"inter_res_pos\"], comb[\"inter_stl_pos\"])"
   ]
  },
  {
   "cell_type": "code",
   "execution_count": 107,
   "metadata": {},
   "outputs": [
    {
     "data": {
      "text/plain": [
       "WilcoxonResult(statistic=61.0, pvalue=0.0054975086077635)"
      ]
     },
     "execution_count": 107,
     "metadata": {},
     "output_type": "execute_result"
    }
   ],
   "source": [
    "stats.wilcoxon(comb[\"inter_res_pos_perc\"], comb[\"inter_stl_pos_perc\"], alternative=\"less\")"
   ]
  },
  {
   "cell_type": "markdown",
   "metadata": {},
   "source": [
    "#### Check if the negative lrp values of each network are equal (mean, distribution)"
   ]
  },
  {
   "cell_type": "code",
   "execution_count": 261,
   "metadata": {},
   "outputs": [
    {
     "data": {
      "text/plain": [
       "(0.8881530775359449, 5.854032788009722e-11)"
      ]
     },
     "execution_count": 261,
     "metadata": {},
     "output_type": "execute_result"
    }
   ],
   "source": [
    "stats.pearsonr(comb[\"inter_res_neg\"], comb[\"inter_stl_neg\"])"
   ]
  },
  {
   "cell_type": "code",
   "execution_count": 106,
   "metadata": {},
   "outputs": [
    {
     "data": {
      "text/plain": [
       "WilcoxonResult(statistic=217.0, pvalue=0.14593778305586774)"
      ]
     },
     "execution_count": 106,
     "metadata": {},
     "output_type": "execute_result"
    }
   ],
   "source": [
    "stats.wilcoxon(comb[\"inter_res_neg_perc\"], comb[\"inter_stl_neg_perc\"], alternative=\"greater\")"
   ]
  }
 ],
 "metadata": {
  "kernelspec": {
   "display_name": "Python [conda env:kerasCPU]",
   "language": "python",
   "name": "conda-env-kerasCPU-py"
  },
  "language_info": {
   "codemirror_mode": {
    "name": "ipython",
    "version": 3
   },
   "file_extension": ".py",
   "mimetype": "text/x-python",
   "name": "python",
   "nbconvert_exporter": "python",
   "pygments_lexer": "ipython3",
   "version": "3.7.7"
  }
 },
 "nbformat": 4,
 "nbformat_minor": 4
}
