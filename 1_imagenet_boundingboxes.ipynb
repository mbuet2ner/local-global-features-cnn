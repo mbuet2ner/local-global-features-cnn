{
 "cells": [
  {
   "cell_type": "markdown",
   "metadata": {},
   "source": [
    "# ImageNet bounding boxes files to one dataframe"
   ]
  },
  {
   "cell_type": "markdown",
   "metadata": {},
   "source": [
    "![img](http://image-net.org/bbox_fig/kit_fox.JPG)"
   ]
  },
  {
   "cell_type": "markdown",
   "metadata": {},
   "source": [
    "The [official bounding boxes](http://image-net.org/download-bboxes) for the ImageNet dataset are saved in one file for each image.\n",
    "\n",
    "This is not very handy and convenient and therefore we create one `pd.DataFrame` to store them all."
   ]
  },
  {
   "cell_type": "code",
   "execution_count": 1,
   "metadata": {},
   "outputs": [],
   "source": [
    "import tarfile\n",
    "import xmltodict\n",
    "import urllib.request\n",
    "import pandas as pd\n",
    "\n",
    "from tqdm import tqdm\n",
    "from pathlib import Path\n",
    "from pandas import json_normalize"
   ]
  },
  {
   "cell_type": "markdown",
   "metadata": {},
   "source": [
    "Create subfolder to save downloaded and created data to"
   ]
  },
  {
   "cell_type": "code",
   "execution_count": 15,
   "metadata": {},
   "outputs": [],
   "source": [
    "save_path = Path(\"data/\")\n",
    "save_path.mkdir(parents=True, exist_ok=True)"
   ]
  },
  {
   "cell_type": "markdown",
   "metadata": {},
   "source": [
    "### Download bounding boxes for ImageNet and unpack them to a folder named `bboxes`"
   ]
  },
  {
   "cell_type": "code",
   "execution_count": 54,
   "metadata": {},
   "outputs": [],
   "source": [
    "bbox_path = save_path / \"bboxes\"\n",
    "bbox_path.mkdir(parents=True, exist_ok=True)"
   ]
  },
  {
   "cell_type": "markdown",
   "metadata": {},
   "source": [
    "#### **Note**: If you are using a GNU/Linux based operating system (e.g. `Google Colab`) use this faster variant:"
   ]
  },
  {
   "cell_type": "code",
   "execution_count": 50,
   "metadata": {},
   "outputs": [
    {
     "name": "stdout",
     "output_type": "stream",
     "text": [
      "--2020-06-20 14:10:42--  http://image-net.org/Annotation/Annotation.tar.gz\n",
      "Auflösen des Hostnamens image-net.org (image-net.org)… 171.64.68.16\n",
      "Verbindungsaufbau zu image-net.org (image-net.org)|171.64.68.16|:80 … verbunden.\n",
      "HTTP-Anforderung gesendet, auf Antwort wird gewartet … 200 OK\n",
      "Länge: 44310351 (42M) [application/x-gzip]\n",
      "Wird in »data/Annotation.tar.gz« gespeichert.\n",
      "\n",
      "Annotation.tar.gz   100%[===================>]  42,26M   492KB/s    in 3m 59s  \n",
      "\n",
      "2020-06-20 14:14:47 (181 KB/s) - »data/Annotation.tar.gz« gespeichert [44310351/44310351]\n",
      "\n"
     ]
    }
   ],
   "source": [
    "! wget -c http://image-net.org/Annotation/Annotation.tar.gz -P data/"
   ]
  },
  {
   "cell_type": "code",
   "execution_count": 55,
   "metadata": {},
   "outputs": [],
   "source": [
    "! tar -zxf data/Annotation.tar.gz -C data/bboxes/"
   ]
  },
  {
   "cell_type": "markdown",
   "metadata": {},
   "source": [
    "Delete archive afterwards"
   ]
  },
  {
   "cell_type": "code",
   "execution_count": 57,
   "metadata": {},
   "outputs": [],
   "source": [
    "! rm data/Annotation.tar.gz"
   ]
  },
  {
   "cell_type": "markdown",
   "metadata": {},
   "source": [
    "#### **Note**: If you are using Windows, use the following code. Unpacking takes a while..."
   ]
  },
  {
   "cell_type": "code",
   "execution_count": 35,
   "metadata": {},
   "outputs": [],
   "source": [
    "bboxes_file = \"http://image-net.org/Annotation/Annotation.tar.gz\"\n",
    "ftpstream = urllib.request.urlopen(bboxes_file)\n",
    "bboxes_file = tarfile.open(fileobj=ftpstream, mode=\"r|gz\")\n",
    "bboxes_file.extractall(path=bbox_path)"
   ]
  },
  {
   "cell_type": "markdown",
   "metadata": {},
   "source": [
    "### First, let us look at how they are structured"
   ]
  },
  {
   "cell_type": "code",
   "execution_count": 38,
   "metadata": {},
   "outputs": [],
   "source": [
    "with tarfile.open(bbox_path / 'n00007846.tar.gz', 'r') as tar:\n",
    "        for compressed_file in tar.getmembers():\n",
    "            if compressed_file.name.endswith(\".xml\"):\n",
    "                xml_file = tar.extractfile(compressed_file)\n",
    "                doc = xmltodict.parse(xml_file.read())"
   ]
  },
  {
   "cell_type": "markdown",
   "metadata": {},
   "source": [
    "We can discard the root element `annotation`"
   ]
  },
  {
   "cell_type": "code",
   "execution_count": 39,
   "metadata": {},
   "outputs": [
    {
     "data": {
      "text/plain": [
       "OrderedDict([('folder', 'n00007846'),\n",
       "             ('filename', 'n00007846_128922'),\n",
       "             ('source', OrderedDict([('database', 'ImageNet database')])),\n",
       "             ('size',\n",
       "              OrderedDict([('width', '333'),\n",
       "                           ('height', '500'),\n",
       "                           ('depth', '3')])),\n",
       "             ('segmented', '0'),\n",
       "             ('object',\n",
       "              OrderedDict([('name', 'n00007846'),\n",
       "                           ('pose', 'Unspecified'),\n",
       "                           ('truncated', '0'),\n",
       "                           ('difficult', '0'),\n",
       "                           ('bndbox',\n",
       "                            OrderedDict([('xmin', '60'),\n",
       "                                         ('ymin', '11'),\n",
       "                                         ('xmax', '330'),\n",
       "                                         ('ymax', '450')]))]))])"
      ]
     },
     "execution_count": 39,
     "metadata": {},
     "output_type": "execute_result"
    }
   ],
   "source": [
    "doc[\"annotation\"]"
   ]
  },
  {
   "cell_type": "markdown",
   "metadata": {},
   "source": [
    "Pandas canot handle unnormalized inputs very well..."
   ]
  },
  {
   "cell_type": "code",
   "execution_count": 40,
   "metadata": {},
   "outputs": [
    {
     "data": {
      "text/html": [
       "<div>\n",
       "<style scoped>\n",
       "    .dataframe tbody tr th:only-of-type {\n",
       "        vertical-align: middle;\n",
       "    }\n",
       "\n",
       "    .dataframe tbody tr th {\n",
       "        vertical-align: top;\n",
       "    }\n",
       "\n",
       "    .dataframe thead th {\n",
       "        text-align: right;\n",
       "    }\n",
       "</style>\n",
       "<table border=\"1\" class=\"dataframe\">\n",
       "  <thead>\n",
       "    <tr style=\"text-align: right;\">\n",
       "      <th></th>\n",
       "      <th>folder</th>\n",
       "      <th>filename</th>\n",
       "      <th>source</th>\n",
       "      <th>size</th>\n",
       "      <th>segmented</th>\n",
       "      <th>object</th>\n",
       "    </tr>\n",
       "  </thead>\n",
       "  <tbody>\n",
       "    <tr>\n",
       "      <th>database</th>\n",
       "      <td>n00007846</td>\n",
       "      <td>n00007846_128922</td>\n",
       "      <td>ImageNet database</td>\n",
       "      <td>NaN</td>\n",
       "      <td>0</td>\n",
       "      <td>NaN</td>\n",
       "    </tr>\n",
       "    <tr>\n",
       "      <th>width</th>\n",
       "      <td>n00007846</td>\n",
       "      <td>n00007846_128922</td>\n",
       "      <td>NaN</td>\n",
       "      <td>333</td>\n",
       "      <td>0</td>\n",
       "      <td>NaN</td>\n",
       "    </tr>\n",
       "    <tr>\n",
       "      <th>height</th>\n",
       "      <td>n00007846</td>\n",
       "      <td>n00007846_128922</td>\n",
       "      <td>NaN</td>\n",
       "      <td>500</td>\n",
       "      <td>0</td>\n",
       "      <td>NaN</td>\n",
       "    </tr>\n",
       "    <tr>\n",
       "      <th>depth</th>\n",
       "      <td>n00007846</td>\n",
       "      <td>n00007846_128922</td>\n",
       "      <td>NaN</td>\n",
       "      <td>3</td>\n",
       "      <td>0</td>\n",
       "      <td>NaN</td>\n",
       "    </tr>\n",
       "    <tr>\n",
       "      <th>name</th>\n",
       "      <td>n00007846</td>\n",
       "      <td>n00007846_128922</td>\n",
       "      <td>NaN</td>\n",
       "      <td>NaN</td>\n",
       "      <td>0</td>\n",
       "      <td>n00007846</td>\n",
       "    </tr>\n",
       "    <tr>\n",
       "      <th>pose</th>\n",
       "      <td>n00007846</td>\n",
       "      <td>n00007846_128922</td>\n",
       "      <td>NaN</td>\n",
       "      <td>NaN</td>\n",
       "      <td>0</td>\n",
       "      <td>Unspecified</td>\n",
       "    </tr>\n",
       "    <tr>\n",
       "      <th>truncated</th>\n",
       "      <td>n00007846</td>\n",
       "      <td>n00007846_128922</td>\n",
       "      <td>NaN</td>\n",
       "      <td>NaN</td>\n",
       "      <td>0</td>\n",
       "      <td>0</td>\n",
       "    </tr>\n",
       "    <tr>\n",
       "      <th>difficult</th>\n",
       "      <td>n00007846</td>\n",
       "      <td>n00007846_128922</td>\n",
       "      <td>NaN</td>\n",
       "      <td>NaN</td>\n",
       "      <td>0</td>\n",
       "      <td>0</td>\n",
       "    </tr>\n",
       "    <tr>\n",
       "      <th>bndbox</th>\n",
       "      <td>n00007846</td>\n",
       "      <td>n00007846_128922</td>\n",
       "      <td>NaN</td>\n",
       "      <td>NaN</td>\n",
       "      <td>0</td>\n",
       "      <td>{'xmin': '60', 'ymin': '11', 'xmax': '330', 'y...</td>\n",
       "    </tr>\n",
       "  </tbody>\n",
       "</table>\n",
       "</div>"
      ],
      "text/plain": [
       "              folder          filename             source size segmented  \\\n",
       "database   n00007846  n00007846_128922  ImageNet database  NaN         0   \n",
       "width      n00007846  n00007846_128922                NaN  333         0   \n",
       "height     n00007846  n00007846_128922                NaN  500         0   \n",
       "depth      n00007846  n00007846_128922                NaN    3         0   \n",
       "name       n00007846  n00007846_128922                NaN  NaN         0   \n",
       "pose       n00007846  n00007846_128922                NaN  NaN         0   \n",
       "truncated  n00007846  n00007846_128922                NaN  NaN         0   \n",
       "difficult  n00007846  n00007846_128922                NaN  NaN         0   \n",
       "bndbox     n00007846  n00007846_128922                NaN  NaN         0   \n",
       "\n",
       "                                                      object  \n",
       "database                                                 NaN  \n",
       "width                                                    NaN  \n",
       "height                                                   NaN  \n",
       "depth                                                    NaN  \n",
       "name                                               n00007846  \n",
       "pose                                             Unspecified  \n",
       "truncated                                                  0  \n",
       "difficult                                                  0  \n",
       "bndbox     {'xmin': '60', 'ymin': '11', 'xmax': '330', 'y...  "
      ]
     },
     "execution_count": 40,
     "metadata": {},
     "output_type": "execute_result"
    }
   ],
   "source": [
    "pd.DataFrame(doc[\"annotation\"])"
   ]
  },
  {
   "cell_type": "markdown",
   "metadata": {},
   "source": [
    "If we normalize the input with `json_normalize()` however, the result looks much better"
   ]
  },
  {
   "cell_type": "code",
   "execution_count": 41,
   "metadata": {},
   "outputs": [
    {
     "data": {
      "text/html": [
       "<div>\n",
       "<style scoped>\n",
       "    .dataframe tbody tr th:only-of-type {\n",
       "        vertical-align: middle;\n",
       "    }\n",
       "\n",
       "    .dataframe tbody tr th {\n",
       "        vertical-align: top;\n",
       "    }\n",
       "\n",
       "    .dataframe thead th {\n",
       "        text-align: right;\n",
       "    }\n",
       "</style>\n",
       "<table border=\"1\" class=\"dataframe\">\n",
       "  <thead>\n",
       "    <tr style=\"text-align: right;\">\n",
       "      <th></th>\n",
       "      <th>folder</th>\n",
       "      <th>filename</th>\n",
       "      <th>segmented</th>\n",
       "      <th>source.database</th>\n",
       "      <th>size.width</th>\n",
       "      <th>size.height</th>\n",
       "      <th>size.depth</th>\n",
       "      <th>object.name</th>\n",
       "      <th>object.pose</th>\n",
       "      <th>object.truncated</th>\n",
       "      <th>object.difficult</th>\n",
       "      <th>object.bndbox.xmin</th>\n",
       "      <th>object.bndbox.ymin</th>\n",
       "      <th>object.bndbox.xmax</th>\n",
       "      <th>object.bndbox.ymax</th>\n",
       "    </tr>\n",
       "  </thead>\n",
       "  <tbody>\n",
       "    <tr>\n",
       "      <th>0</th>\n",
       "      <td>n00007846</td>\n",
       "      <td>n00007846_128922</td>\n",
       "      <td>0</td>\n",
       "      <td>ImageNet database</td>\n",
       "      <td>333</td>\n",
       "      <td>500</td>\n",
       "      <td>3</td>\n",
       "      <td>n00007846</td>\n",
       "      <td>Unspecified</td>\n",
       "      <td>0</td>\n",
       "      <td>0</td>\n",
       "      <td>60</td>\n",
       "      <td>11</td>\n",
       "      <td>330</td>\n",
       "      <td>450</td>\n",
       "    </tr>\n",
       "  </tbody>\n",
       "</table>\n",
       "</div>"
      ],
      "text/plain": [
       "      folder          filename segmented    source.database size.width  \\\n",
       "0  n00007846  n00007846_128922         0  ImageNet database        333   \n",
       "\n",
       "  size.height size.depth object.name  object.pose object.truncated  \\\n",
       "0         500          3   n00007846  Unspecified                0   \n",
       "\n",
       "  object.difficult object.bndbox.xmin object.bndbox.ymin object.bndbox.xmax  \\\n",
       "0                0                 60                 11                330   \n",
       "\n",
       "  object.bndbox.ymax  \n",
       "0                450  "
      ]
     },
     "execution_count": 41,
     "metadata": {},
     "output_type": "execute_result"
    }
   ],
   "source": [
    "xml_norm = json_normalize(doc['annotation'])\n",
    "xml_norm"
   ]
  },
  {
   "cell_type": "markdown",
   "metadata": {},
   "source": [
    "This is a form that pandas can handle easily"
   ]
  },
  {
   "cell_type": "code",
   "execution_count": 42,
   "metadata": {},
   "outputs": [
    {
     "data": {
      "text/html": [
       "<div>\n",
       "<style scoped>\n",
       "    .dataframe tbody tr th:only-of-type {\n",
       "        vertical-align: middle;\n",
       "    }\n",
       "\n",
       "    .dataframe tbody tr th {\n",
       "        vertical-align: top;\n",
       "    }\n",
       "\n",
       "    .dataframe thead th {\n",
       "        text-align: right;\n",
       "    }\n",
       "</style>\n",
       "<table border=\"1\" class=\"dataframe\">\n",
       "  <thead>\n",
       "    <tr style=\"text-align: right;\">\n",
       "      <th></th>\n",
       "      <th>folder</th>\n",
       "      <th>filename</th>\n",
       "      <th>segmented</th>\n",
       "      <th>source.database</th>\n",
       "      <th>size.width</th>\n",
       "      <th>size.height</th>\n",
       "      <th>size.depth</th>\n",
       "      <th>object.name</th>\n",
       "      <th>object.pose</th>\n",
       "      <th>object.truncated</th>\n",
       "      <th>object.difficult</th>\n",
       "      <th>object.bndbox.xmin</th>\n",
       "      <th>object.bndbox.ymin</th>\n",
       "      <th>object.bndbox.xmax</th>\n",
       "      <th>object.bndbox.ymax</th>\n",
       "    </tr>\n",
       "  </thead>\n",
       "  <tbody>\n",
       "    <tr>\n",
       "      <th>0</th>\n",
       "      <td>n00007846</td>\n",
       "      <td>n00007846_128922</td>\n",
       "      <td>0</td>\n",
       "      <td>ImageNet database</td>\n",
       "      <td>333</td>\n",
       "      <td>500</td>\n",
       "      <td>3</td>\n",
       "      <td>n00007846</td>\n",
       "      <td>Unspecified</td>\n",
       "      <td>0</td>\n",
       "      <td>0</td>\n",
       "      <td>60</td>\n",
       "      <td>11</td>\n",
       "      <td>330</td>\n",
       "      <td>450</td>\n",
       "    </tr>\n",
       "  </tbody>\n",
       "</table>\n",
       "</div>"
      ],
      "text/plain": [
       "      folder          filename segmented    source.database size.width  \\\n",
       "0  n00007846  n00007846_128922         0  ImageNet database        333   \n",
       "\n",
       "  size.height size.depth object.name  object.pose object.truncated  \\\n",
       "0         500          3   n00007846  Unspecified                0   \n",
       "\n",
       "  object.difficult object.bndbox.xmin object.bndbox.ymin object.bndbox.xmax  \\\n",
       "0                0                 60                 11                330   \n",
       "\n",
       "  object.bndbox.ymax  \n",
       "0                450  "
      ]
     },
     "execution_count": 42,
     "metadata": {},
     "output_type": "execute_result"
    }
   ],
   "source": [
    "pd.DataFrame(xml_norm)"
   ]
  },
  {
   "cell_type": "markdown",
   "metadata": {},
   "source": [
    "____"
   ]
  },
  {
   "cell_type": "markdown",
   "metadata": {},
   "source": [
    "## Create the dataframe"
   ]
  },
  {
   "cell_type": "markdown",
   "metadata": {},
   "source": [
    "To process each `*.tar.gz` file, we need a list of all"
   ]
  },
  {
   "cell_type": "code",
   "execution_count": 44,
   "metadata": {},
   "outputs": [
    {
     "name": "stdout",
     "output_type": "stream",
     "text": [
      "[PosixPath('data/bboxes/n07683490.tar.gz'), PosixPath('data/bboxes/n03116767.tar.gz'), PosixPath('data/bboxes/n12317296.tar.gz'), PosixPath('data/bboxes/n04593077.tar.gz'), PosixPath('data/bboxes/n07881205.tar.gz'), PosixPath('data/bboxes/n02256656.tar.gz'), PosixPath('data/bboxes/n07690431.tar.gz'), PosixPath('data/bboxes/n01606978.tar.gz'), PosixPath('data/bboxes/n03670208.tar.gz'), PosixPath('data/bboxes/n01661091.tar.gz')]\n"
     ]
    }
   ],
   "source": [
    "tars = [filename for filename in bbox_path.rglob('*.tar.gz')]\n",
    "print(tars[:10])"
   ]
  },
  {
   "cell_type": "markdown",
   "metadata": {},
   "source": [
    "This function takes a `*.tar.gz` file and opens it temporarily in reading mode `r` and then iterates through the folders in the compressed file and creates a pandas `DataFrame` with all the information.\n",
    "\n",
    "We just extract the file temporarily and therefore won't use much additional space. This method however, is slower compared to prior full decompression."
   ]
  },
  {
   "cell_type": "code",
   "execution_count": 45,
   "metadata": {},
   "outputs": [],
   "source": [
    "def untarXMLtodict(file):\n",
    "    data = pd.DataFrame()\n",
    "\n",
    "    with tarfile.open(file, 'r') as tar:\n",
    "        for compressed_file in tar.getmembers():\n",
    "            if compressed_file.name.endswith(\".xml\"):\n",
    "                xml_file = tar.extractfile(compressed_file)\n",
    "                xml_dict = xmltodict.parse(xml_file.read())\n",
    "\n",
    "                xml_dict_norm = json_normalize(xml_dict['annotation'])\n",
    "                data = pd.concat([data, xml_dict_norm])\n",
    "    \n",
    "    return data"
   ]
  },
  {
   "cell_type": "markdown",
   "metadata": {},
   "source": [
    "We can now simply iterate through all the `*.tar.gz` files we found earlier and run `untarXMLtodict()` on each, concatenate the results and finally get our single `DataFrame` with all the information."
   ]
  },
  {
   "cell_type": "code",
   "execution_count": 46,
   "metadata": {},
   "outputs": [
    {
     "name": "stderr",
     "output_type": "stream",
     "text": [
      "100%|██████████| 3627/3627 [1:13:36<00:00,  1.22s/it]\n"
     ]
    }
   ],
   "source": [
    "# the new data frame whre everything is going to be stored in\n",
    "complete_data = pd.DataFrame()\n",
    "\n",
    "for file in tqdm(tars):\n",
    "    complete_data = pd.concat([complete_data, untarXMLtodict(file)])"
   ]
  },
  {
   "cell_type": "markdown",
   "metadata": {},
   "source": [
    "Looks good!"
   ]
  },
  {
   "cell_type": "code",
   "execution_count": 47,
   "metadata": {},
   "outputs": [
    {
     "data": {
      "text/html": [
       "<div>\n",
       "<style scoped>\n",
       "    .dataframe tbody tr th:only-of-type {\n",
       "        vertical-align: middle;\n",
       "    }\n",
       "\n",
       "    .dataframe tbody tr th {\n",
       "        vertical-align: top;\n",
       "    }\n",
       "\n",
       "    .dataframe thead th {\n",
       "        text-align: right;\n",
       "    }\n",
       "</style>\n",
       "<table border=\"1\" class=\"dataframe\">\n",
       "  <thead>\n",
       "    <tr style=\"text-align: right;\">\n",
       "      <th></th>\n",
       "      <th>folder</th>\n",
       "      <th>filename</th>\n",
       "      <th>segmented</th>\n",
       "      <th>source.database</th>\n",
       "      <th>size.width</th>\n",
       "      <th>size.height</th>\n",
       "      <th>size.depth</th>\n",
       "      <th>object.name</th>\n",
       "      <th>object.pose</th>\n",
       "      <th>object.truncated</th>\n",
       "      <th>object.difficult</th>\n",
       "      <th>object.bndbox.xmin</th>\n",
       "      <th>object.bndbox.ymin</th>\n",
       "      <th>object.bndbox.xmax</th>\n",
       "      <th>object.bndbox.ymax</th>\n",
       "      <th>object</th>\n",
       "    </tr>\n",
       "  </thead>\n",
       "  <tbody>\n",
       "    <tr>\n",
       "      <th>0</th>\n",
       "      <td>n07683490</td>\n",
       "      <td>n07683490_6960</td>\n",
       "      <td>0</td>\n",
       "      <td>ImageNet database</td>\n",
       "      <td>500</td>\n",
       "      <td>375</td>\n",
       "      <td>3</td>\n",
       "      <td>n07683490</td>\n",
       "      <td>Unspecified</td>\n",
       "      <td>0</td>\n",
       "      <td>0</td>\n",
       "      <td>78</td>\n",
       "      <td>91</td>\n",
       "      <td>290</td>\n",
       "      <td>307</td>\n",
       "      <td>NaN</td>\n",
       "    </tr>\n",
       "    <tr>\n",
       "      <th>0</th>\n",
       "      <td>n07683490</td>\n",
       "      <td>n07683490_5743</td>\n",
       "      <td>0</td>\n",
       "      <td>ImageNet database</td>\n",
       "      <td>480</td>\n",
       "      <td>480</td>\n",
       "      <td>3</td>\n",
       "      <td>n07683490</td>\n",
       "      <td>Unspecified</td>\n",
       "      <td>0</td>\n",
       "      <td>0</td>\n",
       "      <td>273</td>\n",
       "      <td>56</td>\n",
       "      <td>474</td>\n",
       "      <td>399</td>\n",
       "      <td>NaN</td>\n",
       "    </tr>\n",
       "    <tr>\n",
       "      <th>0</th>\n",
       "      <td>n07683490</td>\n",
       "      <td>n07683490_7315</td>\n",
       "      <td>0</td>\n",
       "      <td>ImageNet database</td>\n",
       "      <td>500</td>\n",
       "      <td>374</td>\n",
       "      <td>3</td>\n",
       "      <td>n07683490</td>\n",
       "      <td>Unspecified</td>\n",
       "      <td>0</td>\n",
       "      <td>0</td>\n",
       "      <td>141</td>\n",
       "      <td>0</td>\n",
       "      <td>483</td>\n",
       "      <td>301</td>\n",
       "      <td>NaN</td>\n",
       "    </tr>\n",
       "    <tr>\n",
       "      <th>0</th>\n",
       "      <td>n07683490</td>\n",
       "      <td>n07683490_6158</td>\n",
       "      <td>0</td>\n",
       "      <td>ImageNet database</td>\n",
       "      <td>500</td>\n",
       "      <td>374</td>\n",
       "      <td>3</td>\n",
       "      <td>n07683490</td>\n",
       "      <td>Unspecified</td>\n",
       "      <td>0</td>\n",
       "      <td>0</td>\n",
       "      <td>93</td>\n",
       "      <td>77</td>\n",
       "      <td>365</td>\n",
       "      <td>311</td>\n",
       "      <td>NaN</td>\n",
       "    </tr>\n",
       "    <tr>\n",
       "      <th>0</th>\n",
       "      <td>n07683490</td>\n",
       "      <td>n07683490_7703</td>\n",
       "      <td>0</td>\n",
       "      <td>ImageNet database</td>\n",
       "      <td>500</td>\n",
       "      <td>375</td>\n",
       "      <td>3</td>\n",
       "      <td>n07683490</td>\n",
       "      <td>Unspecified</td>\n",
       "      <td>0</td>\n",
       "      <td>0</td>\n",
       "      <td>134</td>\n",
       "      <td>80</td>\n",
       "      <td>355</td>\n",
       "      <td>299</td>\n",
       "      <td>NaN</td>\n",
       "    </tr>\n",
       "  </tbody>\n",
       "</table>\n",
       "</div>"
      ],
      "text/plain": [
       "      folder        filename segmented    source.database size.width  \\\n",
       "0  n07683490  n07683490_6960         0  ImageNet database        500   \n",
       "0  n07683490  n07683490_5743         0  ImageNet database        480   \n",
       "0  n07683490  n07683490_7315         0  ImageNet database        500   \n",
       "0  n07683490  n07683490_6158         0  ImageNet database        500   \n",
       "0  n07683490  n07683490_7703         0  ImageNet database        500   \n",
       "\n",
       "  size.height size.depth object.name  object.pose object.truncated  \\\n",
       "0         375          3   n07683490  Unspecified                0   \n",
       "0         480          3   n07683490  Unspecified                0   \n",
       "0         374          3   n07683490  Unspecified                0   \n",
       "0         374          3   n07683490  Unspecified                0   \n",
       "0         375          3   n07683490  Unspecified                0   \n",
       "\n",
       "  object.difficult object.bndbox.xmin object.bndbox.ymin object.bndbox.xmax  \\\n",
       "0                0                 78                 91                290   \n",
       "0                0                273                 56                474   \n",
       "0                0                141                  0                483   \n",
       "0                0                 93                 77                365   \n",
       "0                0                134                 80                355   \n",
       "\n",
       "  object.bndbox.ymax object  \n",
       "0                307    NaN  \n",
       "0                399    NaN  \n",
       "0                301    NaN  \n",
       "0                311    NaN  \n",
       "0                299    NaN  "
      ]
     },
     "execution_count": 47,
     "metadata": {},
     "output_type": "execute_result"
    }
   ],
   "source": [
    "complete_data[:5]"
   ]
  },
  {
   "cell_type": "markdown",
   "metadata": {},
   "source": [
    "#### Save data to disk"
   ]
  },
  {
   "cell_type": "markdown",
   "metadata": {},
   "source": [
    "Write the `DataFrame` to a `.csv` file"
   ]
  },
  {
   "cell_type": "code",
   "execution_count": 48,
   "metadata": {},
   "outputs": [],
   "source": [
    "complete_data.to_csv(save_path / \"imagenet_boundingboxes.csv\", encoding='utf-8', index=False)"
   ]
  },
  {
   "cell_type": "markdown",
   "metadata": {},
   "source": [
    "Write the `DataFrame` to a `.pkl` file"
   ]
  },
  {
   "cell_type": "code",
   "execution_count": 49,
   "metadata": {},
   "outputs": [],
   "source": [
    "complete_data.to_pickle(save_path / \"imagenet_boundingboxes.pkl\")"
   ]
  },
  {
   "cell_type": "markdown",
   "metadata": {},
   "source": [
    "We could also use the `feather` format..."
   ]
  }
 ],
 "metadata": {
  "kernelspec": {
   "display_name": "Python [conda env:root] *",
   "language": "python",
   "name": "conda-root-py"
  },
  "language_info": {
   "codemirror_mode": {
    "name": "ipython",
    "version": 3
   },
   "file_extension": ".py",
   "mimetype": "text/x-python",
   "name": "python",
   "nbconvert_exporter": "python",
   "pygments_lexer": "ipython3",
   "version": "3.7.7"
  }
 },
 "nbformat": 4,
 "nbformat_minor": 4
}
