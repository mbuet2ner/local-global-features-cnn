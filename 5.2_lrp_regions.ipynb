{
 "cells": [
  {
   "cell_type": "code",
   "execution_count": 1,
   "metadata": {},
   "outputs": [
    {
     "name": "stderr",
     "output_type": "stream",
     "text": [
      "Using TensorFlow backend.\n",
      "/home/malte/anaconda3/envs/kerasCPU/lib/python3.7/site-packages/tensorflow/python/framework/dtypes.py:526: FutureWarning: Passing (type, 1) or '1type' as a synonym of type is deprecated; in a future version of numpy, it will be understood as (type, (1,)) / '(1,)type'.\n",
      "  _np_qint8 = np.dtype([(\"qint8\", np.int8, 1)])\n",
      "/home/malte/anaconda3/envs/kerasCPU/lib/python3.7/site-packages/tensorflow/python/framework/dtypes.py:527: FutureWarning: Passing (type, 1) or '1type' as a synonym of type is deprecated; in a future version of numpy, it will be understood as (type, (1,)) / '(1,)type'.\n",
      "  _np_quint8 = np.dtype([(\"quint8\", np.uint8, 1)])\n",
      "/home/malte/anaconda3/envs/kerasCPU/lib/python3.7/site-packages/tensorflow/python/framework/dtypes.py:528: FutureWarning: Passing (type, 1) or '1type' as a synonym of type is deprecated; in a future version of numpy, it will be understood as (type, (1,)) / '(1,)type'.\n",
      "  _np_qint16 = np.dtype([(\"qint16\", np.int16, 1)])\n",
      "/home/malte/anaconda3/envs/kerasCPU/lib/python3.7/site-packages/tensorflow/python/framework/dtypes.py:529: FutureWarning: Passing (type, 1) or '1type' as a synonym of type is deprecated; in a future version of numpy, it will be understood as (type, (1,)) / '(1,)type'.\n",
      "  _np_quint16 = np.dtype([(\"quint16\", np.uint16, 1)])\n",
      "/home/malte/anaconda3/envs/kerasCPU/lib/python3.7/site-packages/tensorflow/python/framework/dtypes.py:530: FutureWarning: Passing (type, 1) or '1type' as a synonym of type is deprecated; in a future version of numpy, it will be understood as (type, (1,)) / '(1,)type'.\n",
      "  _np_qint32 = np.dtype([(\"qint32\", np.int32, 1)])\n",
      "/home/malte/anaconda3/envs/kerasCPU/lib/python3.7/site-packages/tensorflow/python/framework/dtypes.py:535: FutureWarning: Passing (type, 1) or '1type' as a synonym of type is deprecated; in a future version of numpy, it will be understood as (type, (1,)) / '(1,)type'.\n",
      "  np_resource = np.dtype([(\"resource\", np.ubyte, 1)])\n"
     ]
    }
   ],
   "source": [
    "import innvestigate\n",
    "import pickle\n",
    "import numpy as np\n",
    "import matplotlib as plt\n",
    "import pandas as pd\n",
    "\n",
    "from tqdm import tqdm\n",
    "from utils import plot\n",
    "from pathlib import Path\n",
    "from scipy.special import softmax\n",
    "from torchvision import transforms\n",
    "from keras.models import load_model\n",
    "from keras.preprocessing.image import load_img, img_to_array"
   ]
  },
  {
   "cell_type": "markdown",
   "metadata": {},
   "source": [
    "# Load models"
   ]
  },
  {
   "cell_type": "code",
   "execution_count": 2,
   "metadata": {},
   "outputs": [],
   "source": [
    "folder = Path(\"data/\")"
   ]
  },
  {
   "cell_type": "code",
   "execution_count": 3,
   "metadata": {},
   "outputs": [
    {
     "name": "stdout",
     "output_type": "stream",
     "text": [
      "WARNING:tensorflow:From /home/malte/anaconda3/envs/kerasCPU/lib/python3.7/site-packages/tensorflow/python/ops/resource_variable_ops.py:435: colocate_with (from tensorflow.python.framework.ops) is deprecated and will be removed in a future version.\n",
      "Instructions for updating:\n",
      "Colocations handled automatically by placer.\n"
     ]
    },
    {
     "name": "stderr",
     "output_type": "stream",
     "text": [
      "/home/malte/anaconda3/envs/kerasCPU/lib/python3.7/site-packages/keras/engine/saving.py:341: UserWarning: No training configuration found in save file: the model was *not* compiled. Compile it manually.\n",
      "  warnings.warn('No training configuration found in save file: '\n"
     ]
    }
   ],
   "source": [
    "resnet = load_model(folder / 'resnet.h5')"
   ]
  },
  {
   "cell_type": "code",
   "execution_count": 4,
   "metadata": {},
   "outputs": [],
   "source": [
    "resnet.compile(optimizer=\"adam\", loss=\"categorical_crossentropy\")"
   ]
  },
  {
   "cell_type": "code",
   "execution_count": 5,
   "metadata": {},
   "outputs": [],
   "source": [
    "stylenet = load_model(folder / 'stylenet.h5')"
   ]
  },
  {
   "cell_type": "code",
   "execution_count": 6,
   "metadata": {},
   "outputs": [],
   "source": [
    "stylenet.compile(optimizer=\"adam\", loss=\"categorical_crossentropy\")"
   ]
  },
  {
   "cell_type": "markdown",
   "metadata": {},
   "source": [
    "Transform the image in the same way as the network has seen them during training"
   ]
  },
  {
   "cell_type": "code",
   "execution_count": 7,
   "metadata": {},
   "outputs": [],
   "source": [
    "train_transforms = transforms.Compose([\n",
    "                                  transforms.Resize(256),\n",
    "                                  transforms.CenterCrop(224),\n",
    "                                  transforms.ToTensor(),\n",
    "                                  transforms.Normalize(mean=[0.485, 0.456, 0.406], std=[0.229, 0.224, 0.225])\n",
    "])"
   ]
  },
  {
   "cell_type": "markdown",
   "metadata": {},
   "source": [
    "#### Load image paths to images we created earlier"
   ]
  },
  {
   "cell_type": "code",
   "execution_count": 9,
   "metadata": {},
   "outputs": [
    {
     "data": {
      "text/html": [
       "<div>\n",
       "<style scoped>\n",
       "    .dataframe tbody tr th:only-of-type {\n",
       "        vertical-align: middle;\n",
       "    }\n",
       "\n",
       "    .dataframe tbody tr th {\n",
       "        vertical-align: top;\n",
       "    }\n",
       "\n",
       "    .dataframe thead th {\n",
       "        text-align: right;\n",
       "    }\n",
       "</style>\n",
       "<table border=\"1\" class=\"dataframe\">\n",
       "  <thead>\n",
       "    <tr style=\"text-align: right;\">\n",
       "      <th></th>\n",
       "      <th>class</th>\n",
       "      <th>path</th>\n",
       "      <th>scrambled_indices</th>\n",
       "    </tr>\n",
       "    <tr>\n",
       "      <th>Unnamed: 0</th>\n",
       "      <th></th>\n",
       "      <th></th>\n",
       "      <th></th>\n",
       "    </tr>\n",
       "  </thead>\n",
       "  <tbody>\n",
       "    <tr>\n",
       "      <th>0</th>\n",
       "      <td>n01440764</td>\n",
       "      <td>/home/malte/Dokumente/Masterarbeit/data/imagen...</td>\n",
       "      <td>{0: array([2, 3, 1, 0]), 1: array([0, 3, 1, 2]...</td>\n",
       "    </tr>\n",
       "    <tr>\n",
       "      <th>1</th>\n",
       "      <td>n01440764</td>\n",
       "      <td>/home/malte/Dokumente/Masterarbeit/data/imagen...</td>\n",
       "      <td>{0: array([1, 3, 0, 2]), 1: array([1, 3, 0, 2]...</td>\n",
       "    </tr>\n",
       "    <tr>\n",
       "      <th>2</th>\n",
       "      <td>n01440764</td>\n",
       "      <td>/home/malte/Dokumente/Masterarbeit/data/imagen...</td>\n",
       "      <td>{0: array([0, 1, 2, 3]), 1: array([1, 3, 0, 2]...</td>\n",
       "    </tr>\n",
       "    <tr>\n",
       "      <th>3</th>\n",
       "      <td>n02102040</td>\n",
       "      <td>/home/malte/Dokumente/Masterarbeit/data/imagen...</td>\n",
       "      <td>{0: array([2, 0, 1, 3]), 1: array([0, 2, 3, 1]...</td>\n",
       "    </tr>\n",
       "    <tr>\n",
       "      <th>4</th>\n",
       "      <td>n02102040</td>\n",
       "      <td>/home/malte/Dokumente/Masterarbeit/data/imagen...</td>\n",
       "      <td>{0: array([1, 3, 2, 0]), 1: array([2, 3, 0, 1]...</td>\n",
       "    </tr>\n",
       "  </tbody>\n",
       "</table>\n",
       "</div>"
      ],
      "text/plain": [
       "                class                                               path  \\\n",
       "Unnamed: 0                                                                 \n",
       "0           n01440764  /home/malte/Dokumente/Masterarbeit/data/imagen...   \n",
       "1           n01440764  /home/malte/Dokumente/Masterarbeit/data/imagen...   \n",
       "2           n01440764  /home/malte/Dokumente/Masterarbeit/data/imagen...   \n",
       "3           n02102040  /home/malte/Dokumente/Masterarbeit/data/imagen...   \n",
       "4           n02102040  /home/malte/Dokumente/Masterarbeit/data/imagen...   \n",
       "\n",
       "                                            scrambled_indices  \n",
       "Unnamed: 0                                                     \n",
       "0           {0: array([2, 3, 1, 0]), 1: array([0, 3, 1, 2]...  \n",
       "1           {0: array([1, 3, 0, 2]), 1: array([1, 3, 0, 2]...  \n",
       "2           {0: array([0, 1, 2, 3]), 1: array([1, 3, 0, 2]...  \n",
       "3           {0: array([2, 0, 1, 3]), 1: array([0, 2, 3, 1]...  \n",
       "4           {0: array([1, 3, 2, 0]), 1: array([2, 3, 0, 1]...  "
      ]
     },
     "execution_count": 9,
     "metadata": {},
     "output_type": "execute_result"
    }
   ],
   "source": [
    "data = pd.read_csv(folder / \"imagenette2_scr/scramble.csv\", )\n",
    "data = data.set_index(data.columns[0])\n",
    "data[:5]"
   ]
  },
  {
   "cell_type": "markdown",
   "metadata": {},
   "source": [
    "#### Define a few simple helper functions"
   ]
  },
  {
   "cell_type": "code",
   "execution_count": 10,
   "metadata": {},
   "outputs": [],
   "source": [
    "def process_img(img_path):\n",
    "        img = load_img(img_path)\n",
    "        img_arr = np.array(train_transforms(img)[np.newaxis, :])\n",
    "        img_plt = np.moveaxis(img_arr.squeeze(), 0, 2)\n",
    "        \n",
    "        return img_arr, img_plt"
   ]
  },
  {
   "cell_type": "code",
   "execution_count": 11,
   "metadata": {},
   "outputs": [],
   "source": [
    "def evaluate_model(model, img_arr):\n",
    "        output = model.predict(img_arr)\n",
    "        output_class = np.argmax(output)\n",
    "        output_smax = softmax(output)[0][output_class]\n",
    "        \n",
    "        return output, output_class, output_smax"
   ]
  },
  {
   "cell_type": "code",
   "execution_count": 12,
   "metadata": {},
   "outputs": [],
   "source": [
    "def innv_lrp(model, img_arr, output_class):\n",
    "        analyzer = innvestigate.create_analyzer(\"lrp.sequential_preset_a_flat\", \n",
    "                                                model, allow_lambda_layers=True, neuron_selection_mode=\"index\")\n",
    "        a = analyzer.analyze(img_arr, neuron_selection=output_class)\n",
    "        a_r = np.moveaxis(a.squeeze(), 0, 2)\n",
    "        \n",
    "        return a_r"
   ]
  },
  {
   "cell_type": "code",
   "execution_count": 13,
   "metadata": {},
   "outputs": [],
   "source": [
    "def get_info(a_r):\n",
    "    a_m = a_r.sum(axis=np.argmax(np.asarray(a_r.shape) == 3))\n",
    "    # general mean\n",
    "    g_mean = np.mean(a_m)\n",
    "    # mean of a_m's positive values\n",
    "    pos_mean = np.nanmean(np.where(a_m > 0, a_m, np.nan), axis=(0,1))\n",
    "    # mean of a_m's negative values\n",
    "    neg_mean = np.nanmean(np.where(a_m < 0, a_m, np.nan), axis=(0,1))\n",
    "    \n",
    "    # index of pixel values greater than positive mean\n",
    "    pos_ind = np.argwhere(a_m > pos_mean)\n",
    "    # index of pixel values smaller than negative mean\n",
    "    neg_ind = np.argwhere(a_m < neg_mean)\n",
    "    \n",
    "    return g_mean, pos_mean, neg_mean, pos_ind, neg_ind"
   ]
  },
  {
   "cell_type": "code",
   "execution_count": 14,
   "metadata": {},
   "outputs": [],
   "source": [
    "def analysis(model, data, m_name, save_fig=True, print_out=True):\n",
    "    data_dict = {}\n",
    "    \n",
    "    for ind, _class, img_path, _ in tqdm(data.itertuples()):\n",
    "        # load images to arrays\n",
    "        img_arr, img_plt = process_img(img_path)\n",
    "        # run model on image and save class and softmax\n",
    "        output, output_class, output_smax = evaluate_model(model, img_arr)\n",
    "        if print_out:\n",
    "            print(f'\\nOutputclass: {output_class}')\n",
    "            print(f'\\nSoftmax: {output_smax}')\n",
    "        # run innvestigate with lrp and save plot\n",
    "        a_r = innv_lrp(model, img_arr, output_class)\n",
    "        if save_fig:\n",
    "            hmap = plot(a_r, img_plt, dilation=.5, percentile=99, alpha=.3, cmap=\"coolwarm\", _sum=True)\n",
    "            save_path = Path(img_path)\n",
    "            hmap.figure.savefig(folder_plt / f'{m_name}_{save_path.stem}_lrp.png')\n",
    "        # extract coordinates\n",
    "        g_mean, pos_mean, neg_mean, pos_ind, neg_ind = get_info(a_r)\n",
    "        # save to dictionary\n",
    "        data_dict[ind] = {\"g_mean\": g_mean, \"pos_mean\": pos_mean, \"neg_mean\": neg_mean, \"pos_ind\": pos_ind, \"neg_ind\":neg_ind,\n",
    "                         \"output_class\": output_class, \"softmax\": output_smax, \"output\": output}\n",
    "    \n",
    "    return data_dict"
   ]
  },
  {
   "cell_type": "markdown",
   "metadata": {},
   "source": [
    "## Run LRP analysis over images"
   ]
  },
  {
   "cell_type": "code",
   "execution_count": 15,
   "metadata": {},
   "outputs": [],
   "source": [
    "folder_plt = folder / \"imagenette2_lrp\"\n",
    "folder_plt.mkdir(exist_ok=True)"
   ]
  },
  {
   "cell_type": "code",
   "execution_count": 17,
   "metadata": {},
   "outputs": [
    {
     "name": "stderr",
     "output_type": "stream",
     "text": [
      "0it [00:00, ?it/s]"
     ]
    },
    {
     "name": "stdout",
     "output_type": "stream",
     "text": [
      "WARNING:tensorflow:From /home/malte/anaconda3/envs/kerasCPU/lib/python3.7/site-packages/tensorflow/python/ops/math_ops.py:3066: to_int32 (from tensorflow.python.ops.math_ops) is deprecated and will be removed in a future version.\n",
      "Instructions for updating:\n",
      "Use tf.cast instead.\n"
     ]
    },
    {
     "name": "stderr",
     "output_type": "stream",
     "text": [
      "30it [27:57, 55.92s/it]\n"
     ]
    }
   ],
   "source": [
    "res_dict = analysis(resnet, data, \"resnet\", save_fig=False, print_out=False)"
   ]
  },
  {
   "cell_type": "markdown",
   "metadata": {},
   "source": [
    "#### Save data dicitonaries to pickle file"
   ]
  },
  {
   "cell_type": "code",
   "execution_count": 18,
   "metadata": {},
   "outputs": [],
   "source": [
    "with open(folder / \"lrp_regions_resnet.pkl\", 'wb') as f:\n",
    "    pickle.dump(res_dict, f)"
   ]
  },
  {
   "cell_type": "code",
   "execution_count": 16,
   "metadata": {},
   "outputs": [],
   "source": [
    "del resnet"
   ]
  },
  {
   "cell_type": "code",
   "execution_count": 17,
   "metadata": {},
   "outputs": [
    {
     "name": "stderr",
     "output_type": "stream",
     "text": [
      "0it [00:00, ?it/s]"
     ]
    },
    {
     "name": "stdout",
     "output_type": "stream",
     "text": [
      "\n",
      "Outputclass: 0\n",
      "\n",
      "Softmax: 0.9501403570175171\n",
      "WARNING:tensorflow:From /home/malte/anaconda3/envs/kerasCPU/lib/python3.7/site-packages/tensorflow/python/ops/math_ops.py:3066: to_int32 (from tensorflow.python.ops.math_ops) is deprecated and will be removed in a future version.\n",
      "Instructions for updating:\n",
      "Use tf.cast instead.\n"
     ]
    },
    {
     "name": "stderr",
     "output_type": "stream",
     "text": [
      "1it [00:23, 23.28s/it]"
     ]
    },
    {
     "name": "stdout",
     "output_type": "stream",
     "text": [
      "\n",
      "Outputclass: 0\n",
      "\n",
      "Softmax: 0.9995155930519104\n"
     ]
    },
    {
     "name": "stderr",
     "output_type": "stream",
     "text": [
      "2it [00:42, 22.20s/it]"
     ]
    },
    {
     "name": "stdout",
     "output_type": "stream",
     "text": [
      "\n",
      "Outputclass: 0\n",
      "\n",
      "Softmax: 0.273191899061203\n"
     ]
    },
    {
     "name": "stderr",
     "output_type": "stream",
     "text": [
      "3it [01:03, 21.59s/it]"
     ]
    },
    {
     "name": "stdout",
     "output_type": "stream",
     "text": [
      "\n",
      "Outputclass: 217\n",
      "\n",
      "Softmax: 0.9028735160827637\n"
     ]
    },
    {
     "name": "stderr",
     "output_type": "stream",
     "text": [
      "4it [01:25, 21.68s/it]"
     ]
    },
    {
     "name": "stdout",
     "output_type": "stream",
     "text": [
      "\n",
      "Outputclass: 217\n",
      "\n",
      "Softmax: 0.6586723327636719\n"
     ]
    },
    {
     "name": "stderr",
     "output_type": "stream",
     "text": [
      "5it [01:47, 21.92s/it]"
     ]
    },
    {
     "name": "stdout",
     "output_type": "stream",
     "text": [
      "\n",
      "Outputclass: 217\n",
      "\n",
      "Softmax: 0.9552500247955322\n"
     ]
    },
    {
     "name": "stderr",
     "output_type": "stream",
     "text": [
      "6it [02:12, 22.74s/it]"
     ]
    },
    {
     "name": "stdout",
     "output_type": "stream",
     "text": [
      "\n",
      "Outputclass: 632\n",
      "\n",
      "Softmax: 0.6883887052536011\n"
     ]
    },
    {
     "name": "stderr",
     "output_type": "stream",
     "text": [
      "7it [02:37, 23.57s/it]"
     ]
    },
    {
     "name": "stdout",
     "output_type": "stream",
     "text": [
      "\n",
      "Outputclass: 485\n",
      "\n",
      "Softmax: 0.8192846775054932\n"
     ]
    },
    {
     "name": "stderr",
     "output_type": "stream",
     "text": [
      "8it [03:05, 24.86s/it]"
     ]
    },
    {
     "name": "stdout",
     "output_type": "stream",
     "text": [
      "\n",
      "Outputclass: 482\n",
      "\n",
      "Softmax: 0.4470788538455963\n"
     ]
    },
    {
     "name": "stderr",
     "output_type": "stream",
     "text": [
      "9it [03:34, 26.03s/it]"
     ]
    },
    {
     "name": "stdout",
     "output_type": "stream",
     "text": [
      "\n",
      "Outputclass: 491\n",
      "\n",
      "Softmax: 0.9561533331871033\n"
     ]
    },
    {
     "name": "stderr",
     "output_type": "stream",
     "text": [
      "10it [04:05, 27.47s/it]"
     ]
    },
    {
     "name": "stdout",
     "output_type": "stream",
     "text": [
      "\n",
      "Outputclass: 491\n",
      "\n",
      "Softmax: 0.7333689332008362\n"
     ]
    },
    {
     "name": "stderr",
     "output_type": "stream",
     "text": [
      "11it [04:38, 29.17s/it]"
     ]
    },
    {
     "name": "stdout",
     "output_type": "stream",
     "text": [
      "\n",
      "Outputclass: 882\n",
      "\n",
      "Softmax: 0.8825289011001587\n"
     ]
    },
    {
     "name": "stderr",
     "output_type": "stream",
     "text": [
      "12it [05:13, 30.95s/it]"
     ]
    },
    {
     "name": "stdout",
     "output_type": "stream",
     "text": [
      "\n",
      "Outputclass: 497\n",
      "\n",
      "Softmax: 0.7476836442947388\n"
     ]
    },
    {
     "name": "stderr",
     "output_type": "stream",
     "text": [
      "13it [05:49, 32.52s/it]"
     ]
    },
    {
     "name": "stdout",
     "output_type": "stream",
     "text": [
      "\n",
      "Outputclass: 442\n",
      "\n",
      "Softmax: 0.21035031974315643\n"
     ]
    },
    {
     "name": "stderr",
     "output_type": "stream",
     "text": [
      "14it [06:29, 34.60s/it]"
     ]
    },
    {
     "name": "stdout",
     "output_type": "stream",
     "text": [
      "\n",
      "Outputclass: 406\n",
      "\n",
      "Softmax: 0.4893115162849426\n"
     ]
    },
    {
     "name": "stderr",
     "output_type": "stream",
     "text": [
      "15it [07:09, 36.25s/it]"
     ]
    },
    {
     "name": "stdout",
     "output_type": "stream",
     "text": [
      "\n",
      "Outputclass: 566\n",
      "\n",
      "Softmax: 0.9578974843025208\n"
     ]
    },
    {
     "name": "stderr",
     "output_type": "stream",
     "text": [
      "16it [07:56, 39.66s/it]"
     ]
    },
    {
     "name": "stdout",
     "output_type": "stream",
     "text": [
      "\n",
      "Outputclass: 513\n",
      "\n",
      "Softmax: 0.518923282623291\n"
     ]
    },
    {
     "name": "stderr",
     "output_type": "stream",
     "text": [
      "17it [08:52, 44.62s/it]"
     ]
    },
    {
     "name": "stdout",
     "output_type": "stream",
     "text": [
      "\n",
      "Outputclass: 566\n",
      "\n",
      "Softmax: 0.8354141116142273\n"
     ]
    },
    {
     "name": "stderr",
     "output_type": "stream",
     "text": [
      "18it [10:02, 52.04s/it]"
     ]
    },
    {
     "name": "stdout",
     "output_type": "stream",
     "text": [
      "\n",
      "Outputclass: 569\n",
      "\n",
      "Softmax: 0.8913399577140808\n"
     ]
    },
    {
     "name": "stderr",
     "output_type": "stream",
     "text": [
      "19it [11:07, 56.05s/it]"
     ]
    },
    {
     "name": "stdout",
     "output_type": "stream",
     "text": [
      "\n",
      "Outputclass: 569\n",
      "\n",
      "Softmax: 0.9990238547325134\n"
     ]
    },
    {
     "name": "stderr",
     "output_type": "stream",
     "text": [
      "20it [12:11, 58.48s/it]"
     ]
    },
    {
     "name": "stdout",
     "output_type": "stream",
     "text": [
      "\n",
      "Outputclass: 569\n",
      "\n",
      "Softmax: 0.5900624394416809\n"
     ]
    },
    {
     "name": "stderr",
     "output_type": "stream",
     "text": [
      "21it [13:34, 65.75s/it]"
     ]
    },
    {
     "name": "stdout",
     "output_type": "stream",
     "text": [
      "\n",
      "Outputclass: 571\n",
      "\n",
      "Softmax: 0.9908638596534729\n"
     ]
    },
    {
     "name": "stderr",
     "output_type": "stream",
     "text": [
      "22it [15:00, 71.71s/it]"
     ]
    },
    {
     "name": "stdout",
     "output_type": "stream",
     "text": [
      "\n",
      "Outputclass: 571\n",
      "\n",
      "Softmax: 0.9972628951072693\n"
     ]
    },
    {
     "name": "stderr",
     "output_type": "stream",
     "text": [
      "23it [16:07, 70.45s/it]"
     ]
    },
    {
     "name": "stdout",
     "output_type": "stream",
     "text": [
      "\n",
      "Outputclass: 919\n",
      "\n",
      "Softmax: 0.1431838423013687\n"
     ]
    },
    {
     "name": "stderr",
     "output_type": "stream",
     "text": [
      "24it [17:37, 76.35s/it]"
     ]
    },
    {
     "name": "stdout",
     "output_type": "stream",
     "text": [
      "\n",
      "Outputclass: 574\n",
      "\n",
      "Softmax: 0.921381950378418\n"
     ]
    },
    {
     "name": "stderr",
     "output_type": "stream",
     "text": [
      "25it [19:19, 84.09s/it]"
     ]
    },
    {
     "name": "stdout",
     "output_type": "stream",
     "text": [
      "\n",
      "Outputclass: 574\n",
      "\n",
      "Softmax: 1.0\n"
     ]
    },
    {
     "name": "stderr",
     "output_type": "stream",
     "text": [
      "26it [21:05, 90.65s/it]"
     ]
    },
    {
     "name": "stdout",
     "output_type": "stream",
     "text": [
      "\n",
      "Outputclass: 574\n",
      "\n",
      "Softmax: 0.9999236464500427\n"
     ]
    },
    {
     "name": "stderr",
     "output_type": "stream",
     "text": [
      "27it [23:02, 98.57s/it]"
     ]
    },
    {
     "name": "stdout",
     "output_type": "stream",
     "text": [
      "\n",
      "Outputclass: 701\n",
      "\n",
      "Softmax: 0.9997501373291016\n"
     ]
    },
    {
     "name": "stderr",
     "output_type": "stream",
     "text": [
      "28it [25:22, 110.95s/it]"
     ]
    },
    {
     "name": "stdout",
     "output_type": "stream",
     "text": [
      "\n",
      "Outputclass: 701\n",
      "\n",
      "Softmax: 0.9995442032814026\n"
     ]
    },
    {
     "name": "stderr",
     "output_type": "stream",
     "text": [
      "29it [27:39, 118.80s/it]"
     ]
    },
    {
     "name": "stdout",
     "output_type": "stream",
     "text": [
      "\n",
      "Outputclass: 701\n",
      "\n",
      "Softmax: 0.9856162667274475\n"
     ]
    },
    {
     "name": "stderr",
     "output_type": "stream",
     "text": [
      "30it [30:02, 60.09s/it] \n"
     ]
    }
   ],
   "source": [
    "stl_dict = analysis(stylenet, data, \"stylenet\", save_fig=False)"
   ]
  },
  {
   "cell_type": "markdown",
   "metadata": {},
   "source": [
    "#### Save data dicitonaries to pickle file"
   ]
  },
  {
   "cell_type": "code",
   "execution_count": 18,
   "metadata": {},
   "outputs": [],
   "source": [
    "with open(folder / \"lrp_regions_stylenet.pkl\", 'wb') as f:\n",
    "    pickle.dump(stl_dict, f)"
   ]
  },
  {
   "cell_type": "code",
   "execution_count": null,
   "metadata": {},
   "outputs": [],
   "source": []
  }
 ],
 "metadata": {
  "kernelspec": {
   "display_name": "Python [conda env:kerasCPU]",
   "language": "python",
   "name": "conda-env-kerasCPU-py"
  },
  "language_info": {
   "codemirror_mode": {
    "name": "ipython",
    "version": 3
   },
   "file_extension": ".py",
   "mimetype": "text/x-python",
   "name": "python",
   "nbconvert_exporter": "python",
   "pygments_lexer": "ipython3",
   "version": "3.7.7"
  }
 },
 "nbformat": 4,
 "nbformat_minor": 4
}
